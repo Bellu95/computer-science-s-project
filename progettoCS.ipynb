{
  "nbformat": 4,
  "nbformat_minor": 0,
  "metadata": {
    "colab": {
      "name": "progettoCS.ipynb",
      "provenance": [],
      "collapsed_sections": [],
      "machine_shape": "hm"
    },
    "kernelspec": {
      "name": "python3",
      "display_name": "Python 3"
    },
    "accelerator": "GPU"
  },
  "cells": [
    {
      "cell_type": "code",
      "metadata": {
        "id": "cgWyJBs7FMxX",
        "colab_type": "code",
        "colab": {
          "base_uri": "https://localhost:8080/",
          "height": 51
        },
        "outputId": "f063d56e-d517-4ba5-9793-49956034607e"
      },
      "source": [
        "import pandas as pd\n",
        "import numpy as np\n",
        "\n",
        "from google.colab import drive\n",
        "from google.colab import files\n",
        "\n",
        "# mount google drive\n",
        "drive.mount('/content/drive', force_remount=True)"
      ],
      "execution_count": 46,
      "outputs": [
        {
          "output_type": "stream",
          "text": [
            "Mounted at /content/drive\n",
            "time: 795 ms\n"
          ],
          "name": "stdout"
        }
      ]
    },
    {
      "cell_type": "code",
      "metadata": {
        "id": "qQh8jIh3ygUP",
        "colab_type": "code",
        "colab": {
          "base_uri": "https://localhost:8080/",
          "height": 51
        },
        "outputId": "de68e1ff-d463-49bf-94cd-67faf3fb214c"
      },
      "source": [
        "! pip install ipython-autotime"
      ],
      "execution_count": 47,
      "outputs": [
        {
          "output_type": "stream",
          "text": [
            "Requirement already satisfied: ipython-autotime in /usr/local/lib/python3.6/dist-packages (0.1)\n",
            "time: 2.13 s\n"
          ],
          "name": "stdout"
        }
      ]
    },
    {
      "cell_type": "code",
      "metadata": {
        "id": "qNd4yL7weazM",
        "colab_type": "code",
        "colab": {
          "base_uri": "https://localhost:8080/",
          "height": 68
        },
        "outputId": "e5758f1d-c004-41c3-907b-e99799d38952"
      },
      "source": [
        "import autotime \n",
        "%load_ext autotime\n",
        "import datetime as  dt\n",
        "start= dt.datetime.now()"
      ],
      "execution_count": 48,
      "outputs": [
        {
          "output_type": "stream",
          "text": [
            "The autotime extension is already loaded. To reload it, use:\n",
            "  %reload_ext autotime\n",
            "time: 1.97 ms\n"
          ],
          "name": "stdout"
        }
      ]
    },
    {
      "cell_type": "code",
      "metadata": {
        "id": "bAIjxWoYHGS-",
        "colab_type": "code",
        "colab": {
          "base_uri": "https://localhost:8080/",
          "height": 221
        },
        "outputId": "461f1135-cda4-43d9-85fa-d532ae19fd48"
      },
      "source": [
        "# Read loans lenders file\n",
        "loans_lenders = pd.read_csv(\"/content/drive/My Drive/python/kiva/loans_lenders.csv\")\n",
        "loans_lenders.head()"
      ],
      "execution_count": 49,
      "outputs": [
        {
          "output_type": "execute_result",
          "data": {
            "text/html": [
              "<div>\n",
              "<style scoped>\n",
              "    .dataframe tbody tr th:only-of-type {\n",
              "        vertical-align: middle;\n",
              "    }\n",
              "\n",
              "    .dataframe tbody tr th {\n",
              "        vertical-align: top;\n",
              "    }\n",
              "\n",
              "    .dataframe thead th {\n",
              "        text-align: right;\n",
              "    }\n",
              "</style>\n",
              "<table border=\"1\" class=\"dataframe\">\n",
              "  <thead>\n",
              "    <tr style=\"text-align: right;\">\n",
              "      <th></th>\n",
              "      <th>loan_id</th>\n",
              "      <th>lenders</th>\n",
              "    </tr>\n",
              "  </thead>\n",
              "  <tbody>\n",
              "    <tr>\n",
              "      <th>0</th>\n",
              "      <td>483693</td>\n",
              "      <td>muc888, sam4326, camaran3922, lachheb1865, reb...</td>\n",
              "    </tr>\n",
              "    <tr>\n",
              "      <th>1</th>\n",
              "      <td>483738</td>\n",
              "      <td>muc888, nora3555, williammanashi, barbara5610,...</td>\n",
              "    </tr>\n",
              "    <tr>\n",
              "      <th>2</th>\n",
              "      <td>485000</td>\n",
              "      <td>muc888, terrystl, richardandsusan8352, sherri4...</td>\n",
              "    </tr>\n",
              "    <tr>\n",
              "      <th>3</th>\n",
              "      <td>486087</td>\n",
              "      <td>muc888, james5068, rudi5955, daniel9859, don92...</td>\n",
              "    </tr>\n",
              "    <tr>\n",
              "      <th>4</th>\n",
              "      <td>534428</td>\n",
              "      <td>muc888, niki3008, teresa9174, mike4896, david7...</td>\n",
              "    </tr>\n",
              "  </tbody>\n",
              "</table>\n",
              "</div>"
            ],
            "text/plain": [
              "   loan_id                                            lenders\n",
              "0   483693  muc888, sam4326, camaran3922, lachheb1865, reb...\n",
              "1   483738  muc888, nora3555, williammanashi, barbara5610,...\n",
              "2   485000  muc888, terrystl, richardandsusan8352, sherri4...\n",
              "3   486087  muc888, james5068, rudi5955, daniel9859, don92...\n",
              "4   534428  muc888, niki3008, teresa9174, mike4896, david7..."
            ]
          },
          "metadata": {
            "tags": []
          },
          "execution_count": 49
        },
        {
          "output_type": "stream",
          "text": [
            "time: 3.77 s\n"
          ],
          "name": "stdout"
        }
      ]
    },
    {
      "cell_type": "markdown",
      "metadata": {
        "id": "0k2_QfnvbvA-",
        "colab_type": "text"
      },
      "source": [
        "# *1*) Normalize the loan_lenders table. In the normalized table, each row must have one loan_id and one lender.\n"
      ]
    },
    {
      "cell_type": "code",
      "metadata": {
        "id": "qGUIFAyYFOzE",
        "colab_type": "code",
        "colab": {
          "base_uri": "https://localhost:8080/",
          "height": 376
        },
        "outputId": "6ec41900-0d63-4e8d-fb1a-4df842de23ef"
      },
      "source": [
        "# Each row is converted from string to list\n",
        "loans_lenders['lenders'] = loans_lenders['lenders'].apply(lambda x:x.replace(',','').split())\n",
        "# The explode function allows to transform each element of a list-like to a row, replicating index values by loan_columns\n",
        "loans_lenders_splitted = loans_lenders.explode('lenders').reset_index(drop=True)\n",
        "loans_lenders_splitted.head(10)"
      ],
      "execution_count": 50,
      "outputs": [
        {
          "output_type": "execute_result",
          "data": {
            "text/html": [
              "<div>\n",
              "<style scoped>\n",
              "    .dataframe tbody tr th:only-of-type {\n",
              "        vertical-align: middle;\n",
              "    }\n",
              "\n",
              "    .dataframe tbody tr th {\n",
              "        vertical-align: top;\n",
              "    }\n",
              "\n",
              "    .dataframe thead th {\n",
              "        text-align: right;\n",
              "    }\n",
              "</style>\n",
              "<table border=\"1\" class=\"dataframe\">\n",
              "  <thead>\n",
              "    <tr style=\"text-align: right;\">\n",
              "      <th></th>\n",
              "      <th>loan_id</th>\n",
              "      <th>lenders</th>\n",
              "    </tr>\n",
              "  </thead>\n",
              "  <tbody>\n",
              "    <tr>\n",
              "      <th>0</th>\n",
              "      <td>483693</td>\n",
              "      <td>muc888</td>\n",
              "    </tr>\n",
              "    <tr>\n",
              "      <th>1</th>\n",
              "      <td>483693</td>\n",
              "      <td>sam4326</td>\n",
              "    </tr>\n",
              "    <tr>\n",
              "      <th>2</th>\n",
              "      <td>483693</td>\n",
              "      <td>camaran3922</td>\n",
              "    </tr>\n",
              "    <tr>\n",
              "      <th>3</th>\n",
              "      <td>483693</td>\n",
              "      <td>lachheb1865</td>\n",
              "    </tr>\n",
              "    <tr>\n",
              "      <th>4</th>\n",
              "      <td>483693</td>\n",
              "      <td>rebecca3499</td>\n",
              "    </tr>\n",
              "    <tr>\n",
              "      <th>5</th>\n",
              "      <td>483693</td>\n",
              "      <td>karlheinz4543</td>\n",
              "    </tr>\n",
              "    <tr>\n",
              "      <th>6</th>\n",
              "      <td>483693</td>\n",
              "      <td>jerrydb</td>\n",
              "    </tr>\n",
              "    <tr>\n",
              "      <th>7</th>\n",
              "      <td>483693</td>\n",
              "      <td>paula8951</td>\n",
              "    </tr>\n",
              "    <tr>\n",
              "      <th>8</th>\n",
              "      <td>483693</td>\n",
              "      <td>gmct</td>\n",
              "    </tr>\n",
              "    <tr>\n",
              "      <th>9</th>\n",
              "      <td>483693</td>\n",
              "      <td>amra9383</td>\n",
              "    </tr>\n",
              "  </tbody>\n",
              "</table>\n",
              "</div>"
            ],
            "text/plain": [
              "   loan_id        lenders\n",
              "0   483693         muc888\n",
              "1   483693        sam4326\n",
              "2   483693    camaran3922\n",
              "3   483693    lachheb1865\n",
              "4   483693    rebecca3499\n",
              "5   483693  karlheinz4543\n",
              "6   483693        jerrydb\n",
              "7   483693      paula8951\n",
              "8   483693           gmct\n",
              "9   483693       amra9383"
            ]
          },
          "metadata": {
            "tags": []
          },
          "execution_count": 50
        },
        {
          "output_type": "stream",
          "text": [
            "time: 17.8 s\n"
          ],
          "name": "stdout"
        }
      ]
    },
    {
      "cell_type": "markdown",
      "metadata": {
        "id": "Gng1P3Hd3sEB",
        "colab_type": "text"
      },
      "source": [
        "# 2) For each loan, add a column duration corresponding to the number of days between the disburse time and the planned expiration time. If any of those two dates is missing, also the duration must be missing"
      ]
    },
    {
      "cell_type": "code",
      "metadata": {
        "id": "dPbg0Cfsm9GA",
        "colab_type": "code",
        "colab": {
          "base_uri": "https://localhost:8080/",
          "height": 34
        },
        "outputId": "35813d25-3d4b-4887-9f84-ffd7bc07ee6e"
      },
      "source": [
        "# Read loans file\n",
        "loans = pd.read_csv(\"/content/drive/My Drive/python/kiva/loans.csv\")\n"
      ],
      "execution_count": 51,
      "outputs": [
        {
          "output_type": "stream",
          "text": [
            "time: 25.9 s\n"
          ],
          "name": "stdout"
        }
      ]
    },
    {
      "cell_type": "code",
      "metadata": {
        "id": "Z5uCthxt1CeU",
        "colab_type": "code",
        "colab": {
          "base_uri": "https://localhost:8080/",
          "height": 68
        },
        "outputId": "8fb225e4-30c8-45c5-b907-4c9e448d468b"
      },
      "source": [
        "# Number of NaN in disburse time and in planned expiration time\n",
        "loans[['disburse_time','planned_expiration_time']].isna().sum()"
      ],
      "execution_count": 52,
      "outputs": [
        {
          "output_type": "execute_result",
          "data": {
            "text/plain": [
              "disburse_time                2813\n",
              "planned_expiration_time    371834\n",
              "dtype: int64"
            ]
          },
          "metadata": {
            "tags": []
          },
          "execution_count": 52
        },
        {
          "output_type": "stream",
          "text": [
            "time: 155 ms\n"
          ],
          "name": "stdout"
        }
      ]
    },
    {
      "cell_type": "code",
      "metadata": {
        "colab_type": "code",
        "id": "Jx5dFFzE3to0",
        "colab": {
          "base_uri": "https://localhost:8080/",
          "height": 68
        },
        "outputId": "828854d4-f8bf-4828-f7f3-5c427d7ef927"
      },
      "source": [
        "# Number of row with NaN values in disburse time and in planned expiration time\n",
        "len(loans[loans['disburse_time'].isna()][loans['planned_expiration_time'].isna()])"
      ],
      "execution_count": 53,
      "outputs": [
        {
          "output_type": "stream",
          "text": [
            "/usr/local/lib/python3.6/dist-packages/ipykernel_launcher.py:2: UserWarning: Boolean Series key will be reindexed to match DataFrame index.\n",
            "  \n"
          ],
          "name": "stderr"
        },
        {
          "output_type": "execute_result",
          "data": {
            "text/plain": [
              "2"
            ]
          },
          "metadata": {
            "tags": []
          },
          "execution_count": 53
        },
        {
          "output_type": "stream",
          "text": [
            "time: 124 ms\n"
          ],
          "name": "stdout"
        }
      ]
    },
    {
      "cell_type": "code",
      "metadata": {
        "id": "mTIrMZvc38kS",
        "colab_type": "code",
        "colab": {
          "base_uri": "https://localhost:8080/",
          "height": 68
        },
        "outputId": "0c1176ad-c74d-4495-ff74-8985d0446c3c"
      },
      "source": [
        "# Number of raw with NaN reguard columns disburse time and planned expiration time\n",
        "Nan=loans['disburse_time'].isna().sum()+loans['planned_expiration_time'].isna().sum()-len(loans[loans['disburse_time'].isna()][loans['planned_expiration_time'].isna()])\n",
        "Nan"
      ],
      "execution_count": 54,
      "outputs": [
        {
          "output_type": "stream",
          "text": [
            "/usr/local/lib/python3.6/dist-packages/ipykernel_launcher.py:2: UserWarning: Boolean Series key will be reindexed to match DataFrame index.\n",
            "  \n"
          ],
          "name": "stderr"
        },
        {
          "output_type": "execute_result",
          "data": {
            "text/plain": [
              "374645"
            ]
          },
          "metadata": {
            "tags": []
          },
          "execution_count": 54
        },
        {
          "output_type": "stream",
          "text": [
            "time: 234 ms\n"
          ],
          "name": "stdout"
        }
      ]
    },
    {
      "cell_type": "code",
      "metadata": {
        "id": "CwgZJjByz8g5",
        "colab_type": "code",
        "colab": {
          "base_uri": "https://localhost:8080/",
          "height": 119
        },
        "outputId": "6b963c10-c782-4599-c2b6-73b76ef30e6c"
      },
      "source": [
        "# Transform 'planned_expiration_time' and 'disburse_time' in pandas datetime format\n",
        "loans['planned_expiration_time']=pd.to_datetime(loans['planned_expiration_time']).dt.date\n",
        "loans['disburse_time']=pd.to_datetime(loans['disburse_time']).dt.date\n",
        "# Create column 'duration'\n",
        "loans['duration']=loans['planned_expiration_time'] - loans['disburse_time']\n",
        "# Show columns 'duration'\n",
        "loans['duration'].head()"
      ],
      "execution_count": 55,
      "outputs": [
        {
          "output_type": "execute_result",
          "data": {
            "text/plain": [
              "0   54 days\n",
              "1   96 days\n",
              "2   37 days\n",
              "3   35 days\n",
              "4   58 days\n",
              "Name: duration, dtype: timedelta64[ns]"
            ]
          },
          "metadata": {
            "tags": []
          },
          "execution_count": 55
        },
        {
          "output_type": "stream",
          "text": [
            "time: 5 s\n"
          ],
          "name": "stdout"
        }
      ]
    },
    {
      "cell_type": "code",
      "metadata": {
        "id": "QWMAPoUU2YxX",
        "colab_type": "code",
        "colab": {
          "base_uri": "https://localhost:8080/",
          "height": 34
        },
        "outputId": "c906efe9-0986-4e7d-f986-324f9950a25c"
      },
      "source": [
        "# Number of NaN in duration\n",
        "loans['duration'].isna().sum()"
      ],
      "execution_count": 56,
      "outputs": [
        {
          "output_type": "execute_result",
          "data": {
            "text/plain": [
              "374645"
            ]
          },
          "metadata": {
            "tags": []
          },
          "execution_count": 56
        },
        {
          "output_type": "stream",
          "text": [
            "time: 5.74 ms\n"
          ],
          "name": "stdout"
        }
      ]
    },
    {
      "cell_type": "code",
      "metadata": {
        "id": "gG8mIgNP2fu3",
        "colab_type": "code",
        "colab": {
          "base_uri": "https://localhost:8080/",
          "height": 34
        },
        "outputId": "ac4ff4f8-b1a9-4993-e787-4b54706d18ff"
      },
      "source": [
        "# Check if number of NaN in duration = number of raw with NaN reguard columns disburse time and planned expiration time\n",
        "Nan==loans['duration'].isna().sum()"
      ],
      "execution_count": 57,
      "outputs": [
        {
          "output_type": "execute_result",
          "data": {
            "text/plain": [
              "True"
            ]
          },
          "metadata": {
            "tags": []
          },
          "execution_count": 57
        },
        {
          "output_type": "stream",
          "text": [
            "time: 5.26 ms\n"
          ],
          "name": "stdout"
        }
      ]
    },
    {
      "cell_type": "markdown",
      "metadata": {
        "id": "sIsiAQzz3pGg",
        "colab_type": "text"
      },
      "source": [
        "# 3) Find the lenders that have funded at least twice "
      ]
    },
    {
      "cell_type": "code",
      "metadata": {
        "id": "o_qw24bUy00w",
        "colab_type": "code",
        "colab": {
          "base_uri": "https://localhost:8080/",
          "height": 221
        },
        "outputId": "eed0be44-a032-4b02-cbc1-cd2ee8238232"
      },
      "source": [
        "lenders_funded=loans_lenders_splitted.groupby('lenders')['loan_id'].count().reset_index(name = 'count_funded')\n",
        "lenders_funded[lenders_funded['count_funded']>1].head()"
      ],
      "execution_count": 58,
      "outputs": [
        {
          "output_type": "execute_result",
          "data": {
            "text/html": [
              "<div>\n",
              "<style scoped>\n",
              "    .dataframe tbody tr th:only-of-type {\n",
              "        vertical-align: middle;\n",
              "    }\n",
              "\n",
              "    .dataframe tbody tr th {\n",
              "        vertical-align: top;\n",
              "    }\n",
              "\n",
              "    .dataframe thead th {\n",
              "        text-align: right;\n",
              "    }\n",
              "</style>\n",
              "<table border=\"1\" class=\"dataframe\">\n",
              "  <thead>\n",
              "    <tr style=\"text-align: right;\">\n",
              "      <th></th>\n",
              "      <th>lenders</th>\n",
              "      <th>count_funded</th>\n",
              "    </tr>\n",
              "  </thead>\n",
              "  <tbody>\n",
              "    <tr>\n",
              "      <th>0</th>\n",
              "      <td>000</td>\n",
              "      <td>40</td>\n",
              "    </tr>\n",
              "    <tr>\n",
              "      <th>1</th>\n",
              "      <td>00000</td>\n",
              "      <td>39</td>\n",
              "    </tr>\n",
              "    <tr>\n",
              "      <th>2</th>\n",
              "      <td>0002</td>\n",
              "      <td>70</td>\n",
              "    </tr>\n",
              "    <tr>\n",
              "      <th>4</th>\n",
              "      <td>0101craign0101</td>\n",
              "      <td>71</td>\n",
              "    </tr>\n",
              "    <tr>\n",
              "      <th>5</th>\n",
              "      <td>0132575</td>\n",
              "      <td>4</td>\n",
              "    </tr>\n",
              "  </tbody>\n",
              "</table>\n",
              "</div>"
            ],
            "text/plain": [
              "          lenders  count_funded\n",
              "0             000            40\n",
              "1           00000            39\n",
              "2            0002            70\n",
              "4  0101craign0101            71\n",
              "5         0132575             4"
            ]
          },
          "metadata": {
            "tags": []
          },
          "execution_count": 58
        },
        {
          "output_type": "stream",
          "text": [
            "time: 9.22 s\n"
          ],
          "name": "stdout"
        }
      ]
    },
    {
      "cell_type": "code",
      "metadata": {
        "id": "7RC3jvo_MUFE",
        "colab_type": "code",
        "colab": {
          "base_uri": "https://localhost:8080/",
          "height": 51
        },
        "outputId": "71d97d14-eccc-41f9-ba34-48a1b6371db2"
      },
      "source": [
        "print('The exact number about lenders that have funded at least twice is: ', len(lenders_funded[lenders_funded['count_funded']>1]))"
      ],
      "execution_count": 59,
      "outputs": [
        {
          "output_type": "stream",
          "text": [
            "The exact number about lenders that have funded at least twice is:  901811\n",
            "time: 105 ms\n"
          ],
          "name": "stdout"
        }
      ]
    },
    {
      "cell_type": "markdown",
      "metadata": {
        "id": "lxRZNZbz3mNw",
        "colab_type": "text"
      },
      "source": [
        "# 4) For each country, compute how many loans have involved that country as borrowers"
      ]
    },
    {
      "cell_type": "code",
      "metadata": {
        "id": "6PciZlX37d_D",
        "colab_type": "code",
        "colab": {
          "base_uri": "https://localhost:8080/",
          "height": 221
        },
        "outputId": "6631aea4-ed17-4acb-fcec-2315776a5a6c"
      },
      "source": [
        "Loan_by_country=loans.groupby('country_name')['loan_id'].count().reset_index(name = 'loans_count')\n",
        "Loan_by_country.head()"
      ],
      "execution_count": 60,
      "outputs": [
        {
          "output_type": "execute_result",
          "data": {
            "text/html": [
              "<div>\n",
              "<style scoped>\n",
              "    .dataframe tbody tr th:only-of-type {\n",
              "        vertical-align: middle;\n",
              "    }\n",
              "\n",
              "    .dataframe tbody tr th {\n",
              "        vertical-align: top;\n",
              "    }\n",
              "\n",
              "    .dataframe thead th {\n",
              "        text-align: right;\n",
              "    }\n",
              "</style>\n",
              "<table border=\"1\" class=\"dataframe\">\n",
              "  <thead>\n",
              "    <tr style=\"text-align: right;\">\n",
              "      <th></th>\n",
              "      <th>country_name</th>\n",
              "      <th>loans_count</th>\n",
              "    </tr>\n",
              "  </thead>\n",
              "  <tbody>\n",
              "    <tr>\n",
              "      <th>0</th>\n",
              "      <td>Afghanistan</td>\n",
              "      <td>2337</td>\n",
              "    </tr>\n",
              "    <tr>\n",
              "      <th>1</th>\n",
              "      <td>Albania</td>\n",
              "      <td>3075</td>\n",
              "    </tr>\n",
              "    <tr>\n",
              "      <th>2</th>\n",
              "      <td>Armenia</td>\n",
              "      <td>13952</td>\n",
              "    </tr>\n",
              "    <tr>\n",
              "      <th>3</th>\n",
              "      <td>Azerbaijan</td>\n",
              "      <td>10172</td>\n",
              "    </tr>\n",
              "    <tr>\n",
              "      <th>4</th>\n",
              "      <td>Belize</td>\n",
              "      <td>218</td>\n",
              "    </tr>\n",
              "  </tbody>\n",
              "</table>\n",
              "</div>"
            ],
            "text/plain": [
              "  country_name  loans_count\n",
              "0  Afghanistan         2337\n",
              "1      Albania         3075\n",
              "2      Armenia        13952\n",
              "3   Azerbaijan        10172\n",
              "4       Belize          218"
            ]
          },
          "metadata": {
            "tags": []
          },
          "execution_count": 60
        },
        {
          "output_type": "stream",
          "text": [
            "time: 93.5 ms\n"
          ],
          "name": "stdout"
        }
      ]
    },
    {
      "cell_type": "markdown",
      "metadata": {
        "id": "796ZouJi3gZb",
        "colab_type": "text"
      },
      "source": [
        "# 5) For each country, compute the overall amount of money borrowed"
      ]
    },
    {
      "cell_type": "code",
      "metadata": {
        "id": "wvhqGn7T-Uup",
        "colab_type": "code",
        "colab": {
          "base_uri": "https://localhost:8080/",
          "height": 221
        },
        "outputId": "e127c0c6-58d8-4c93-cfc2-17ca0f0b9e7a"
      },
      "source": [
        "loan_amount_sum_by_country=loans.groupby('country_name')['loan_amount'].sum().reset_index(name='loan_amount_sum')\n",
        "loan_amount_sum_by_country.head()"
      ],
      "execution_count": 61,
      "outputs": [
        {
          "output_type": "execute_result",
          "data": {
            "text/html": [
              "<div>\n",
              "<style scoped>\n",
              "    .dataframe tbody tr th:only-of-type {\n",
              "        vertical-align: middle;\n",
              "    }\n",
              "\n",
              "    .dataframe tbody tr th {\n",
              "        vertical-align: top;\n",
              "    }\n",
              "\n",
              "    .dataframe thead th {\n",
              "        text-align: right;\n",
              "    }\n",
              "</style>\n",
              "<table border=\"1\" class=\"dataframe\">\n",
              "  <thead>\n",
              "    <tr style=\"text-align: right;\">\n",
              "      <th></th>\n",
              "      <th>country_name</th>\n",
              "      <th>loan_amount_sum</th>\n",
              "    </tr>\n",
              "  </thead>\n",
              "  <tbody>\n",
              "    <tr>\n",
              "      <th>0</th>\n",
              "      <td>Afghanistan</td>\n",
              "      <td>1967950.0</td>\n",
              "    </tr>\n",
              "    <tr>\n",
              "      <th>1</th>\n",
              "      <td>Albania</td>\n",
              "      <td>4307350.0</td>\n",
              "    </tr>\n",
              "    <tr>\n",
              "      <th>2</th>\n",
              "      <td>Armenia</td>\n",
              "      <td>22950475.0</td>\n",
              "    </tr>\n",
              "    <tr>\n",
              "      <th>3</th>\n",
              "      <td>Azerbaijan</td>\n",
              "      <td>14784625.0</td>\n",
              "    </tr>\n",
              "    <tr>\n",
              "      <th>4</th>\n",
              "      <td>Belize</td>\n",
              "      <td>150175.0</td>\n",
              "    </tr>\n",
              "  </tbody>\n",
              "</table>\n",
              "</div>"
            ],
            "text/plain": [
              "  country_name  loan_amount_sum\n",
              "0  Afghanistan        1967950.0\n",
              "1      Albania        4307350.0\n",
              "2      Armenia       22950475.0\n",
              "3   Azerbaijan       14784625.0\n",
              "4       Belize         150175.0"
            ]
          },
          "metadata": {
            "tags": []
          },
          "execution_count": 61
        },
        {
          "output_type": "stream",
          "text": [
            "time: 88.3 ms\n"
          ],
          "name": "stdout"
        }
      ]
    },
    {
      "cell_type": "markdown",
      "metadata": {
        "id": "15YCVTjk3bA0",
        "colab_type": "text"
      },
      "source": [
        "# 6) Like the previous point, but expressed as a percentage of the overall amount lent."
      ]
    },
    {
      "cell_type": "code",
      "metadata": {
        "id": "6DlvMslc-pQE",
        "colab_type": "code",
        "colab": {
          "base_uri": "https://localhost:8080/",
          "height": 221
        },
        "outputId": "21b3f8d8-5b54-4989-ea5a-32314514faa5"
      },
      "source": [
        "loan_amount_sum_by_country_percentual=(loans.groupby('country_name')['loan_amount'].sum()/loans['funded_amount'].sum()*100).reset_index(name = 'loan_amount_%_over_total')\n",
        "loan_amount_sum_by_country_percentual.head()"
      ],
      "execution_count": 62,
      "outputs": [
        {
          "output_type": "execute_result",
          "data": {
            "text/html": [
              "<div>\n",
              "<style scoped>\n",
              "    .dataframe tbody tr th:only-of-type {\n",
              "        vertical-align: middle;\n",
              "    }\n",
              "\n",
              "    .dataframe tbody tr th {\n",
              "        vertical-align: top;\n",
              "    }\n",
              "\n",
              "    .dataframe thead th {\n",
              "        text-align: right;\n",
              "    }\n",
              "</style>\n",
              "<table border=\"1\" class=\"dataframe\">\n",
              "  <thead>\n",
              "    <tr style=\"text-align: right;\">\n",
              "      <th></th>\n",
              "      <th>country_name</th>\n",
              "      <th>loan_amount_%_over_total</th>\n",
              "    </tr>\n",
              "  </thead>\n",
              "  <tbody>\n",
              "    <tr>\n",
              "      <th>0</th>\n",
              "      <td>Afghanistan</td>\n",
              "      <td>0.174126</td>\n",
              "    </tr>\n",
              "    <tr>\n",
              "      <th>1</th>\n",
              "      <td>Albania</td>\n",
              "      <td>0.381119</td>\n",
              "    </tr>\n",
              "    <tr>\n",
              "      <th>2</th>\n",
              "      <td>Armenia</td>\n",
              "      <td>2.030683</td>\n",
              "    </tr>\n",
              "    <tr>\n",
              "      <th>3</th>\n",
              "      <td>Azerbaijan</td>\n",
              "      <td>1.308160</td>\n",
              "    </tr>\n",
              "    <tr>\n",
              "      <th>4</th>\n",
              "      <td>Belize</td>\n",
              "      <td>0.013288</td>\n",
              "    </tr>\n",
              "  </tbody>\n",
              "</table>\n",
              "</div>"
            ],
            "text/plain": [
              "  country_name  loan_amount_%_over_total\n",
              "0  Afghanistan                  0.174126\n",
              "1      Albania                  0.381119\n",
              "2      Armenia                  2.030683\n",
              "3   Azerbaijan                  1.308160\n",
              "4       Belize                  0.013288"
            ]
          },
          "metadata": {
            "tags": []
          },
          "execution_count": 62
        },
        {
          "output_type": "stream",
          "text": [
            "time: 98.1 ms\n"
          ],
          "name": "stdout"
        }
      ]
    },
    {
      "cell_type": "markdown",
      "metadata": {
        "id": "QcMg53NR3YAz",
        "colab_type": "text"
      },
      "source": [
        "# 7) Like the three previous points, but split for each year (with respect to disburse time)"
      ]
    },
    {
      "cell_type": "code",
      "metadata": {
        "id": "hPoakxkh9Ca0",
        "colab_type": "code",
        "colab": {
          "base_uri": "https://localhost:8080/",
          "height": 34
        },
        "outputId": "ae0002b7-8d3e-4166-a43b-075410df9f33"
      },
      "source": [
        "# Create a new column corresponding to the year of disburse_time\n",
        "loans['disburse_time_year']=pd.to_datetime(loans['disburse_time']).dt.year"
      ],
      "execution_count": 63,
      "outputs": [
        {
          "output_type": "stream",
          "text": [
            "time: 346 ms\n"
          ],
          "name": "stdout"
        }
      ]
    },
    {
      "cell_type": "code",
      "metadata": {
        "id": "EIvl767X9X2W",
        "colab_type": "code",
        "colab": {
          "base_uri": "https://localhost:8080/",
          "height": 436
        },
        "outputId": "6ab47226-aff6-4b0e-b5b4-bf31ed1caba6"
      },
      "source": [
        "ES_4_for_each_year=loans.groupby(['country_name','disburse_time_year'])['loan_id'].count().reset_index(name='loan_count')\n",
        "ES_4_for_each_year"
      ],
      "execution_count": 64,
      "outputs": [
        {
          "output_type": "execute_result",
          "data": {
            "text/html": [
              "<div>\n",
              "<style scoped>\n",
              "    .dataframe tbody tr th:only-of-type {\n",
              "        vertical-align: middle;\n",
              "    }\n",
              "\n",
              "    .dataframe tbody tr th {\n",
              "        vertical-align: top;\n",
              "    }\n",
              "\n",
              "    .dataframe thead th {\n",
              "        text-align: right;\n",
              "    }\n",
              "</style>\n",
              "<table border=\"1\" class=\"dataframe\">\n",
              "  <thead>\n",
              "    <tr style=\"text-align: right;\">\n",
              "      <th></th>\n",
              "      <th>country_name</th>\n",
              "      <th>disburse_time_year</th>\n",
              "      <th>loan_count</th>\n",
              "    </tr>\n",
              "  </thead>\n",
              "  <tbody>\n",
              "    <tr>\n",
              "      <th>0</th>\n",
              "      <td>Afghanistan</td>\n",
              "      <td>2007.0</td>\n",
              "      <td>408</td>\n",
              "    </tr>\n",
              "    <tr>\n",
              "      <th>1</th>\n",
              "      <td>Afghanistan</td>\n",
              "      <td>2008.0</td>\n",
              "      <td>370</td>\n",
              "    </tr>\n",
              "    <tr>\n",
              "      <th>2</th>\n",
              "      <td>Afghanistan</td>\n",
              "      <td>2009.0</td>\n",
              "      <td>678</td>\n",
              "    </tr>\n",
              "    <tr>\n",
              "      <th>3</th>\n",
              "      <td>Afghanistan</td>\n",
              "      <td>2010.0</td>\n",
              "      <td>632</td>\n",
              "    </tr>\n",
              "    <tr>\n",
              "      <th>4</th>\n",
              "      <td>Afghanistan</td>\n",
              "      <td>2011.0</td>\n",
              "      <td>247</td>\n",
              "    </tr>\n",
              "    <tr>\n",
              "      <th>...</th>\n",
              "      <td>...</td>\n",
              "      <td>...</td>\n",
              "      <td>...</td>\n",
              "    </tr>\n",
              "    <tr>\n",
              "      <th>743</th>\n",
              "      <td>Zimbabwe</td>\n",
              "      <td>2013.0</td>\n",
              "      <td>426</td>\n",
              "    </tr>\n",
              "    <tr>\n",
              "      <th>744</th>\n",
              "      <td>Zimbabwe</td>\n",
              "      <td>2014.0</td>\n",
              "      <td>2078</td>\n",
              "    </tr>\n",
              "    <tr>\n",
              "      <th>745</th>\n",
              "      <td>Zimbabwe</td>\n",
              "      <td>2015.0</td>\n",
              "      <td>600</td>\n",
              "    </tr>\n",
              "    <tr>\n",
              "      <th>746</th>\n",
              "      <td>Zimbabwe</td>\n",
              "      <td>2016.0</td>\n",
              "      <td>808</td>\n",
              "    </tr>\n",
              "    <tr>\n",
              "      <th>747</th>\n",
              "      <td>Zimbabwe</td>\n",
              "      <td>2017.0</td>\n",
              "      <td>1079</td>\n",
              "    </tr>\n",
              "  </tbody>\n",
              "</table>\n",
              "<p>748 rows × 3 columns</p>\n",
              "</div>"
            ],
            "text/plain": [
              "    country_name  disburse_time_year  loan_count\n",
              "0    Afghanistan              2007.0         408\n",
              "1    Afghanistan              2008.0         370\n",
              "2    Afghanistan              2009.0         678\n",
              "3    Afghanistan              2010.0         632\n",
              "4    Afghanistan              2011.0         247\n",
              "..           ...                 ...         ...\n",
              "743     Zimbabwe              2013.0         426\n",
              "744     Zimbabwe              2014.0        2078\n",
              "745     Zimbabwe              2015.0         600\n",
              "746     Zimbabwe              2016.0         808\n",
              "747     Zimbabwe              2017.0        1079\n",
              "\n",
              "[748 rows x 3 columns]"
            ]
          },
          "metadata": {
            "tags": []
          },
          "execution_count": 64
        },
        {
          "output_type": "stream",
          "text": [
            "time: 175 ms\n"
          ],
          "name": "stdout"
        }
      ]
    },
    {
      "cell_type": "code",
      "metadata": {
        "id": "pE9JmyivD53k",
        "colab_type": "code",
        "colab": {
          "base_uri": "https://localhost:8080/",
          "height": 436
        },
        "outputId": "e6409304-bdaa-4aad-e386-2e11c8f1cecd"
      },
      "source": [
        "ES_5_for_each_year=loans.groupby(['country_name','disburse_time_year'])['loan_amount'].sum().reset_index(name='loan_amount_sum')\n",
        "ES_5_for_each_year"
      ],
      "execution_count": 65,
      "outputs": [
        {
          "output_type": "execute_result",
          "data": {
            "text/html": [
              "<div>\n",
              "<style scoped>\n",
              "    .dataframe tbody tr th:only-of-type {\n",
              "        vertical-align: middle;\n",
              "    }\n",
              "\n",
              "    .dataframe tbody tr th {\n",
              "        vertical-align: top;\n",
              "    }\n",
              "\n",
              "    .dataframe thead th {\n",
              "        text-align: right;\n",
              "    }\n",
              "</style>\n",
              "<table border=\"1\" class=\"dataframe\">\n",
              "  <thead>\n",
              "    <tr style=\"text-align: right;\">\n",
              "      <th></th>\n",
              "      <th>country_name</th>\n",
              "      <th>disburse_time_year</th>\n",
              "      <th>loan_amount_sum</th>\n",
              "    </tr>\n",
              "  </thead>\n",
              "  <tbody>\n",
              "    <tr>\n",
              "      <th>0</th>\n",
              "      <td>Afghanistan</td>\n",
              "      <td>2007.0</td>\n",
              "      <td>194975.0</td>\n",
              "    </tr>\n",
              "    <tr>\n",
              "      <th>1</th>\n",
              "      <td>Afghanistan</td>\n",
              "      <td>2008.0</td>\n",
              "      <td>365375.0</td>\n",
              "    </tr>\n",
              "    <tr>\n",
              "      <th>2</th>\n",
              "      <td>Afghanistan</td>\n",
              "      <td>2009.0</td>\n",
              "      <td>585125.0</td>\n",
              "    </tr>\n",
              "    <tr>\n",
              "      <th>3</th>\n",
              "      <td>Afghanistan</td>\n",
              "      <td>2010.0</td>\n",
              "      <td>563350.0</td>\n",
              "    </tr>\n",
              "    <tr>\n",
              "      <th>4</th>\n",
              "      <td>Afghanistan</td>\n",
              "      <td>2011.0</td>\n",
              "      <td>245125.0</td>\n",
              "    </tr>\n",
              "    <tr>\n",
              "      <th>...</th>\n",
              "      <td>...</td>\n",
              "      <td>...</td>\n",
              "      <td>...</td>\n",
              "    </tr>\n",
              "    <tr>\n",
              "      <th>743</th>\n",
              "      <td>Zimbabwe</td>\n",
              "      <td>2013.0</td>\n",
              "      <td>678525.0</td>\n",
              "    </tr>\n",
              "    <tr>\n",
              "      <th>744</th>\n",
              "      <td>Zimbabwe</td>\n",
              "      <td>2014.0</td>\n",
              "      <td>1311575.0</td>\n",
              "    </tr>\n",
              "    <tr>\n",
              "      <th>745</th>\n",
              "      <td>Zimbabwe</td>\n",
              "      <td>2015.0</td>\n",
              "      <td>723625.0</td>\n",
              "    </tr>\n",
              "    <tr>\n",
              "      <th>746</th>\n",
              "      <td>Zimbabwe</td>\n",
              "      <td>2016.0</td>\n",
              "      <td>788600.0</td>\n",
              "    </tr>\n",
              "    <tr>\n",
              "      <th>747</th>\n",
              "      <td>Zimbabwe</td>\n",
              "      <td>2017.0</td>\n",
              "      <td>1237600.0</td>\n",
              "    </tr>\n",
              "  </tbody>\n",
              "</table>\n",
              "<p>748 rows × 3 columns</p>\n",
              "</div>"
            ],
            "text/plain": [
              "    country_name  disburse_time_year  loan_amount_sum\n",
              "0    Afghanistan              2007.0         194975.0\n",
              "1    Afghanistan              2008.0         365375.0\n",
              "2    Afghanistan              2009.0         585125.0\n",
              "3    Afghanistan              2010.0         563350.0\n",
              "4    Afghanistan              2011.0         245125.0\n",
              "..           ...                 ...              ...\n",
              "743     Zimbabwe              2013.0         678525.0\n",
              "744     Zimbabwe              2014.0        1311575.0\n",
              "745     Zimbabwe              2015.0         723625.0\n",
              "746     Zimbabwe              2016.0         788600.0\n",
              "747     Zimbabwe              2017.0        1237600.0\n",
              "\n",
              "[748 rows x 3 columns]"
            ]
          },
          "metadata": {
            "tags": []
          },
          "execution_count": 65
        },
        {
          "output_type": "stream",
          "text": [
            "time: 141 ms\n"
          ],
          "name": "stdout"
        }
      ]
    },
    {
      "cell_type": "code",
      "metadata": {
        "id": "7Ikd0HE1EPHT",
        "colab_type": "code",
        "colab": {
          "base_uri": "https://localhost:8080/",
          "height": 436
        },
        "outputId": "9273e9d1-8c57-4290-c64f-28078c715fc4"
      },
      "source": [
        "ES_6_for_each_year=(loans.groupby(['country_name','disburse_time_year'])['loan_amount'].sum()/loans['funded_amount'].sum()*100).reset_index(name='loan_amount_%_over_total')\n",
        "ES_6_for_each_year"
      ],
      "execution_count": 66,
      "outputs": [
        {
          "output_type": "execute_result",
          "data": {
            "text/html": [
              "<div>\n",
              "<style scoped>\n",
              "    .dataframe tbody tr th:only-of-type {\n",
              "        vertical-align: middle;\n",
              "    }\n",
              "\n",
              "    .dataframe tbody tr th {\n",
              "        vertical-align: top;\n",
              "    }\n",
              "\n",
              "    .dataframe thead th {\n",
              "        text-align: right;\n",
              "    }\n",
              "</style>\n",
              "<table border=\"1\" class=\"dataframe\">\n",
              "  <thead>\n",
              "    <tr style=\"text-align: right;\">\n",
              "      <th></th>\n",
              "      <th>country_name</th>\n",
              "      <th>disburse_time_year</th>\n",
              "      <th>loan_amount_%_over_total</th>\n",
              "    </tr>\n",
              "  </thead>\n",
              "  <tbody>\n",
              "    <tr>\n",
              "      <th>0</th>\n",
              "      <td>Afghanistan</td>\n",
              "      <td>2007.0</td>\n",
              "      <td>0.017252</td>\n",
              "    </tr>\n",
              "    <tr>\n",
              "      <th>1</th>\n",
              "      <td>Afghanistan</td>\n",
              "      <td>2008.0</td>\n",
              "      <td>0.032329</td>\n",
              "    </tr>\n",
              "    <tr>\n",
              "      <th>2</th>\n",
              "      <td>Afghanistan</td>\n",
              "      <td>2009.0</td>\n",
              "      <td>0.051772</td>\n",
              "    </tr>\n",
              "    <tr>\n",
              "      <th>3</th>\n",
              "      <td>Afghanistan</td>\n",
              "      <td>2010.0</td>\n",
              "      <td>0.049846</td>\n",
              "    </tr>\n",
              "    <tr>\n",
              "      <th>4</th>\n",
              "      <td>Afghanistan</td>\n",
              "      <td>2011.0</td>\n",
              "      <td>0.021689</td>\n",
              "    </tr>\n",
              "    <tr>\n",
              "      <th>...</th>\n",
              "      <td>...</td>\n",
              "      <td>...</td>\n",
              "      <td>...</td>\n",
              "    </tr>\n",
              "    <tr>\n",
              "      <th>743</th>\n",
              "      <td>Zimbabwe</td>\n",
              "      <td>2013.0</td>\n",
              "      <td>0.060037</td>\n",
              "    </tr>\n",
              "    <tr>\n",
              "      <th>744</th>\n",
              "      <td>Zimbabwe</td>\n",
              "      <td>2014.0</td>\n",
              "      <td>0.116050</td>\n",
              "    </tr>\n",
              "    <tr>\n",
              "      <th>745</th>\n",
              "      <td>Zimbabwe</td>\n",
              "      <td>2015.0</td>\n",
              "      <td>0.064027</td>\n",
              "    </tr>\n",
              "    <tr>\n",
              "      <th>746</th>\n",
              "      <td>Zimbabwe</td>\n",
              "      <td>2016.0</td>\n",
              "      <td>0.069776</td>\n",
              "    </tr>\n",
              "    <tr>\n",
              "      <th>747</th>\n",
              "      <td>Zimbabwe</td>\n",
              "      <td>2017.0</td>\n",
              "      <td>0.109504</td>\n",
              "    </tr>\n",
              "  </tbody>\n",
              "</table>\n",
              "<p>748 rows × 3 columns</p>\n",
              "</div>"
            ],
            "text/plain": [
              "    country_name  disburse_time_year  loan_amount_%_over_total\n",
              "0    Afghanistan              2007.0                  0.017252\n",
              "1    Afghanistan              2008.0                  0.032329\n",
              "2    Afghanistan              2009.0                  0.051772\n",
              "3    Afghanistan              2010.0                  0.049846\n",
              "4    Afghanistan              2011.0                  0.021689\n",
              "..           ...                 ...                       ...\n",
              "743     Zimbabwe              2013.0                  0.060037\n",
              "744     Zimbabwe              2014.0                  0.116050\n",
              "745     Zimbabwe              2015.0                  0.064027\n",
              "746     Zimbabwe              2016.0                  0.069776\n",
              "747     Zimbabwe              2017.0                  0.109504\n",
              "\n",
              "[748 rows x 3 columns]"
            ]
          },
          "metadata": {
            "tags": []
          },
          "execution_count": 66
        },
        {
          "output_type": "stream",
          "text": [
            "time: 142 ms\n"
          ],
          "name": "stdout"
        }
      ]
    },
    {
      "cell_type": "markdown",
      "metadata": {
        "id": "eim_Grx83Uv8",
        "colab_type": "text"
      },
      "source": [
        "# 8) For each lender, compute the overall amount of money lent. For each loan that has more than one lender, you must assume that all lenders contributed the same amount"
      ]
    },
    {
      "cell_type": "code",
      "metadata": {
        "id": "9DG6QClR8hTk",
        "colab_type": "code",
        "colab": {
          "base_uri": "https://localhost:8080/",
          "height": 34
        },
        "outputId": "a53936c8-e733-4e34-ff74-44791c76ca6e"
      },
      "source": [
        "# Check if there are rows with value [0] in column num_lenders_total\n",
        "0 in loans['num_lenders_total'].unique()"
      ],
      "execution_count": 67,
      "outputs": [
        {
          "output_type": "execute_result",
          "data": {
            "text/plain": [
              "True"
            ]
          },
          "metadata": {
            "tags": []
          },
          "execution_count": 67
        },
        {
          "output_type": "stream",
          "text": [
            "time: 9.69 ms\n"
          ],
          "name": "stdout"
        }
      ]
    },
    {
      "cell_type": "code",
      "metadata": {
        "id": "BaUbZIjD9VAq",
        "colab_type": "code",
        "colab": {
          "base_uri": "https://localhost:8080/",
          "height": 34
        },
        "outputId": "d90f3cef-c2c5-441e-94da-cfdf67f37ba0"
      },
      "source": [
        "# Compute the number of rows with value [0] in column num_lenders_total\n",
        "len(loans[loans['num_lenders_total']==0])"
      ],
      "execution_count": 68,
      "outputs": [
        {
          "output_type": "execute_result",
          "data": {
            "text/plain": [
              "2568"
            ]
          },
          "metadata": {
            "tags": []
          },
          "execution_count": 68
        },
        {
          "output_type": "stream",
          "text": [
            "time: 14.7 ms\n"
          ],
          "name": "stdout"
        }
      ]
    },
    {
      "cell_type": "code",
      "metadata": {
        "id": "Q0q67Ncan1SL",
        "colab_type": "code",
        "colab": {
          "base_uri": "https://localhost:8080/",
          "height": 86
        },
        "outputId": "bf7bd7ad-54c2-4f57-fa05-a053ae3c683e"
      },
      "source": [
        "# Check if the loan id in these rows is there in loans lenders splitted\n",
        "loans[loans['num_lenders_total']==0].merge(loans_lenders_splitted)"
      ],
      "execution_count": 69,
      "outputs": [
        {
          "output_type": "execute_result",
          "data": {
            "text/html": [
              "<div>\n",
              "<style scoped>\n",
              "    .dataframe tbody tr th:only-of-type {\n",
              "        vertical-align: middle;\n",
              "    }\n",
              "\n",
              "    .dataframe tbody tr th {\n",
              "        vertical-align: top;\n",
              "    }\n",
              "\n",
              "    .dataframe thead th {\n",
              "        text-align: right;\n",
              "    }\n",
              "</style>\n",
              "<table border=\"1\" class=\"dataframe\">\n",
              "  <thead>\n",
              "    <tr style=\"text-align: right;\">\n",
              "      <th></th>\n",
              "      <th>loan_id</th>\n",
              "      <th>loan_name</th>\n",
              "      <th>original_language</th>\n",
              "      <th>description</th>\n",
              "      <th>description_translated</th>\n",
              "      <th>funded_amount</th>\n",
              "      <th>loan_amount</th>\n",
              "      <th>status</th>\n",
              "      <th>activity_name</th>\n",
              "      <th>sector_name</th>\n",
              "      <th>loan_use</th>\n",
              "      <th>country_code</th>\n",
              "      <th>country_name</th>\n",
              "      <th>town_name</th>\n",
              "      <th>currency_policy</th>\n",
              "      <th>currency_exchange_coverage_rate</th>\n",
              "      <th>currency</th>\n",
              "      <th>partner_id</th>\n",
              "      <th>posted_time</th>\n",
              "      <th>planned_expiration_time</th>\n",
              "      <th>disburse_time</th>\n",
              "      <th>raised_time</th>\n",
              "      <th>lender_term</th>\n",
              "      <th>num_lenders_total</th>\n",
              "      <th>num_journal_entries</th>\n",
              "      <th>num_bulk_entries</th>\n",
              "      <th>tags</th>\n",
              "      <th>borrower_genders</th>\n",
              "      <th>borrower_pictured</th>\n",
              "      <th>repayment_interval</th>\n",
              "      <th>distribution_model</th>\n",
              "      <th>duration</th>\n",
              "      <th>disburse_time_year</th>\n",
              "      <th>lenders</th>\n",
              "    </tr>\n",
              "  </thead>\n",
              "  <tbody>\n",
              "  </tbody>\n",
              "</table>\n",
              "</div>"
            ],
            "text/plain": [
              "Empty DataFrame\n",
              "Columns: [loan_id, loan_name, original_language, description, description_translated, funded_amount, loan_amount, status, activity_name, sector_name, loan_use, country_code, country_name, town_name, currency_policy, currency_exchange_coverage_rate, currency, partner_id, posted_time, planned_expiration_time, disburse_time, raised_time, lender_term, num_lenders_total, num_journal_entries, num_bulk_entries, tags, borrower_genders, borrower_pictured, repayment_interval, distribution_model, duration, disburse_time_year, lenders]\n",
              "Index: []"
            ]
          },
          "metadata": {
            "tags": []
          },
          "execution_count": 69
        },
        {
          "output_type": "stream",
          "text": [
            "time: 2.03 s\n"
          ],
          "name": "stdout"
        }
      ]
    },
    {
      "cell_type": "code",
      "metadata": {
        "id": "czej_nk_-qn7",
        "colab_type": "code",
        "colab": {
          "base_uri": "https://localhost:8080/",
          "height": 436
        },
        "outputId": "69338716-f793-41e7-d5ca-8249893d8f8c"
      },
      "source": [
        "# Check if the number of lenders for each loan_id in dataframe loans_lemders_splitted correspond to the number of lenders for each loan_id in dataframe loans\n",
        "check=pd.DataFrame(loans_lenders_splitted.groupby('loan_id').count()).reset_index()\n",
        "check.rename(columns={0:'count'},inplace=True)\n",
        "check_merge=check.merge(loans[['loan_id','num_lenders_total']])\n",
        "check_merge"
      ],
      "execution_count": 70,
      "outputs": [
        {
          "output_type": "execute_result",
          "data": {
            "text/html": [
              "<div>\n",
              "<style scoped>\n",
              "    .dataframe tbody tr th:only-of-type {\n",
              "        vertical-align: middle;\n",
              "    }\n",
              "\n",
              "    .dataframe tbody tr th {\n",
              "        vertical-align: top;\n",
              "    }\n",
              "\n",
              "    .dataframe thead th {\n",
              "        text-align: right;\n",
              "    }\n",
              "</style>\n",
              "<table border=\"1\" class=\"dataframe\">\n",
              "  <thead>\n",
              "    <tr style=\"text-align: right;\">\n",
              "      <th></th>\n",
              "      <th>loan_id</th>\n",
              "      <th>lenders</th>\n",
              "      <th>num_lenders_total</th>\n",
              "    </tr>\n",
              "  </thead>\n",
              "  <tbody>\n",
              "    <tr>\n",
              "      <th>0</th>\n",
              "      <td>84</td>\n",
              "      <td>3</td>\n",
              "      <td>5</td>\n",
              "    </tr>\n",
              "    <tr>\n",
              "      <th>1</th>\n",
              "      <td>85</td>\n",
              "      <td>2</td>\n",
              "      <td>3</td>\n",
              "    </tr>\n",
              "    <tr>\n",
              "      <th>2</th>\n",
              "      <td>86</td>\n",
              "      <td>3</td>\n",
              "      <td>3</td>\n",
              "    </tr>\n",
              "    <tr>\n",
              "      <th>3</th>\n",
              "      <td>88</td>\n",
              "      <td>3</td>\n",
              "      <td>4</td>\n",
              "    </tr>\n",
              "    <tr>\n",
              "      <th>4</th>\n",
              "      <td>89</td>\n",
              "      <td>4</td>\n",
              "      <td>6</td>\n",
              "    </tr>\n",
              "    <tr>\n",
              "      <th>...</th>\n",
              "      <td>...</td>\n",
              "      <td>...</td>\n",
              "      <td>...</td>\n",
              "    </tr>\n",
              "    <tr>\n",
              "      <th>1387423</th>\n",
              "      <td>1444051</td>\n",
              "      <td>1</td>\n",
              "      <td>2</td>\n",
              "    </tr>\n",
              "    <tr>\n",
              "      <th>1387424</th>\n",
              "      <td>1444053</td>\n",
              "      <td>1</td>\n",
              "      <td>2</td>\n",
              "    </tr>\n",
              "    <tr>\n",
              "      <th>1387425</th>\n",
              "      <td>1444058</td>\n",
              "      <td>1</td>\n",
              "      <td>1</td>\n",
              "    </tr>\n",
              "    <tr>\n",
              "      <th>1387426</th>\n",
              "      <td>1444063</td>\n",
              "      <td>1</td>\n",
              "      <td>2</td>\n",
              "    </tr>\n",
              "    <tr>\n",
              "      <th>1387427</th>\n",
              "      <td>1444065</td>\n",
              "      <td>1</td>\n",
              "      <td>1</td>\n",
              "    </tr>\n",
              "  </tbody>\n",
              "</table>\n",
              "<p>1387428 rows × 3 columns</p>\n",
              "</div>"
            ],
            "text/plain": [
              "         loan_id  lenders  num_lenders_total\n",
              "0             84        3                  5\n",
              "1             85        2                  3\n",
              "2             86        3                  3\n",
              "3             88        3                  4\n",
              "4             89        4                  6\n",
              "...          ...      ...                ...\n",
              "1387423  1444051        1                  2\n",
              "1387424  1444053        1                  2\n",
              "1387425  1444058        1                  1\n",
              "1387426  1444063        1                  2\n",
              "1387427  1444065        1                  1\n",
              "\n",
              "[1387428 rows x 3 columns]"
            ]
          },
          "metadata": {
            "tags": []
          },
          "execution_count": 70
        },
        {
          "output_type": "stream",
          "text": [
            "time: 2.8 s\n"
          ],
          "name": "stdout"
        }
      ]
    },
    {
      "cell_type": "markdown",
      "metadata": {
        "id": "UDjzDFsKCfeI",
        "colab_type": "text"
      },
      "source": [
        " It doeasn't match so we assume that the loan amount must be splitted as many times as indicated in num_lenders_total and after we can merge with loan_lenders_splitted"
      ]
    },
    {
      "cell_type": "code",
      "metadata": {
        "id": "sah0Z8doCaOR",
        "colab_type": "code",
        "colab": {
          "base_uri": "https://localhost:8080/",
          "height": 436
        },
        "outputId": "ef5d4aaa-6beb-44e9-c079-8f6d1f86322f"
      },
      "source": [
        "# For each loan, new columns have been created corresponding to the funded amount and loan amount by each lenders present in the aforementioned loan\n",
        "loans['funded_amount_x_lenders']=loans['funded_amount']/loans['num_lenders_total']\n",
        "loans['loan_amount_x_lenders']=loans['loan_amount']/loans['num_lenders_total']\n",
        "# Merge between dataset (loans) and dataset (loand lenders splitted) \n",
        "merge=loans[['loan_id','funded_amount_x_lenders','loan_amount_x_lenders']].merge(loans_lenders_splitted)\n",
        "# Compute the overall amount of money lent and the overall amount of money borrowed for each lender\n",
        "merge=pd.DataFrame(merge.groupby('lenders')[['funded_amount_x_lenders','loan_amount_x_lenders']].sum())\n",
        "merge.reset_index(inplace=True)\n",
        "# Show the overall amount of monney lent for each lender\n",
        "merge[['lenders','funded_amount_x_lenders']]"
      ],
      "execution_count": 71,
      "outputs": [
        {
          "output_type": "execute_result",
          "data": {
            "text/html": [
              "<div>\n",
              "<style scoped>\n",
              "    .dataframe tbody tr th:only-of-type {\n",
              "        vertical-align: middle;\n",
              "    }\n",
              "\n",
              "    .dataframe tbody tr th {\n",
              "        vertical-align: top;\n",
              "    }\n",
              "\n",
              "    .dataframe thead th {\n",
              "        text-align: right;\n",
              "    }\n",
              "</style>\n",
              "<table border=\"1\" class=\"dataframe\">\n",
              "  <thead>\n",
              "    <tr style=\"text-align: right;\">\n",
              "      <th></th>\n",
              "      <th>lenders</th>\n",
              "      <th>funded_amount_x_lenders</th>\n",
              "    </tr>\n",
              "  </thead>\n",
              "  <tbody>\n",
              "    <tr>\n",
              "      <th>0</th>\n",
              "      <td>000</td>\n",
              "      <td>1512.095370</td>\n",
              "    </tr>\n",
              "    <tr>\n",
              "      <th>1</th>\n",
              "      <td>00000</td>\n",
              "      <td>1249.127691</td>\n",
              "    </tr>\n",
              "    <tr>\n",
              "      <th>2</th>\n",
              "      <td>0002</td>\n",
              "      <td>2201.180463</td>\n",
              "    </tr>\n",
              "    <tr>\n",
              "      <th>3</th>\n",
              "      <td>00mike00</td>\n",
              "      <td>38.461538</td>\n",
              "    </tr>\n",
              "    <tr>\n",
              "      <th>4</th>\n",
              "      <td>0101craign0101</td>\n",
              "      <td>2424.088932</td>\n",
              "    </tr>\n",
              "    <tr>\n",
              "      <th>...</th>\n",
              "      <td>...</td>\n",
              "      <td>...</td>\n",
              "    </tr>\n",
              "    <tr>\n",
              "      <th>1383794</th>\n",
              "      <td>zzmcfate</td>\n",
              "      <td>57535.947017</td>\n",
              "    </tr>\n",
              "    <tr>\n",
              "      <th>1383795</th>\n",
              "      <td>zzpaghetti9994</td>\n",
              "      <td>44.247788</td>\n",
              "    </tr>\n",
              "    <tr>\n",
              "      <th>1383796</th>\n",
              "      <td>zzrvmf8538</td>\n",
              "      <td>480.818179</td>\n",
              "    </tr>\n",
              "    <tr>\n",
              "      <th>1383797</th>\n",
              "      <td>zzzsai</td>\n",
              "      <td>236.888048</td>\n",
              "    </tr>\n",
              "    <tr>\n",
              "      <th>1383798</th>\n",
              "      <td>zzzworld</td>\n",
              "      <td>26.315789</td>\n",
              "    </tr>\n",
              "  </tbody>\n",
              "</table>\n",
              "<p>1383799 rows × 2 columns</p>\n",
              "</div>"
            ],
            "text/plain": [
              "                lenders  funded_amount_x_lenders\n",
              "0                   000              1512.095370\n",
              "1                 00000              1249.127691\n",
              "2                  0002              2201.180463\n",
              "3              00mike00                38.461538\n",
              "4        0101craign0101              2424.088932\n",
              "...                 ...                      ...\n",
              "1383794        zzmcfate             57535.947017\n",
              "1383795  zzpaghetti9994                44.247788\n",
              "1383796      zzrvmf8538               480.818179\n",
              "1383797          zzzsai               236.888048\n",
              "1383798        zzzworld                26.315789\n",
              "\n",
              "[1383799 rows x 2 columns]"
            ]
          },
          "metadata": {
            "tags": []
          },
          "execution_count": 71
        },
        {
          "output_type": "stream",
          "text": [
            "time: 16 s\n"
          ],
          "name": "stdout"
        }
      ]
    },
    {
      "cell_type": "markdown",
      "metadata": {
        "id": "z0-Z-afe3Rla",
        "colab_type": "text"
      },
      "source": [
        "# 9) For each country, compute the difference between the overall amount of money lent and the overall amount of money borrowed. Since the country of the lender is often unknown, you can assume that the true distribution among the countries is the same as the one computed from the rows where the country is known."
      ]
    },
    {
      "cell_type": "code",
      "metadata": {
        "id": "PV5XZD-aimOd",
        "colab_type": "code",
        "colab": {
          "base_uri": "https://localhost:8080/",
          "height": 221
        },
        "outputId": "2b8d65fb-47b5-4e7b-bc2b-92cb5bd9c7b7"
      },
      "source": [
        "# Read lenders file\n",
        "lenders = pd.read_csv(\"/content/drive/My Drive/python/kiva/lenders.csv\")\n",
        "# Drop rows with Nan values in 'country code' and 'permanent name' columns and rename the column permanent name\n",
        "lenders.dropna(subset=['country_code'],inplace=True)\n",
        "lenders.dropna(subset=['permanent_name'],inplace=True)\n",
        "lenders.rename(columns={'permanent_name':'lenders'},inplace=True)\n",
        "lenders.head()"
      ],
      "execution_count": 72,
      "outputs": [
        {
          "output_type": "execute_result",
          "data": {
            "text/html": [
              "<div>\n",
              "<style scoped>\n",
              "    .dataframe tbody tr th:only-of-type {\n",
              "        vertical-align: middle;\n",
              "    }\n",
              "\n",
              "    .dataframe tbody tr th {\n",
              "        vertical-align: top;\n",
              "    }\n",
              "\n",
              "    .dataframe thead th {\n",
              "        text-align: right;\n",
              "    }\n",
              "</style>\n",
              "<table border=\"1\" class=\"dataframe\">\n",
              "  <thead>\n",
              "    <tr style=\"text-align: right;\">\n",
              "      <th></th>\n",
              "      <th>lenders</th>\n",
              "      <th>display_name</th>\n",
              "      <th>city</th>\n",
              "      <th>state</th>\n",
              "      <th>country_code</th>\n",
              "      <th>member_since</th>\n",
              "      <th>occupation</th>\n",
              "      <th>loan_because</th>\n",
              "      <th>loan_purchase_num</th>\n",
              "      <th>invited_by</th>\n",
              "      <th>num_invited</th>\n",
              "    </tr>\n",
              "  </thead>\n",
              "  <tbody>\n",
              "    <tr>\n",
              "      <th>16</th>\n",
              "      <td>naresh2074</td>\n",
              "      <td>Naresh</td>\n",
              "      <td>NaN</td>\n",
              "      <td>NaN</td>\n",
              "      <td>US</td>\n",
              "      <td>1461303119</td>\n",
              "      <td>NaN</td>\n",
              "      <td>NaN</td>\n",
              "      <td>3.0</td>\n",
              "      <td>NaN</td>\n",
              "      <td>0</td>\n",
              "    </tr>\n",
              "    <tr>\n",
              "      <th>31</th>\n",
              "      <td>christina27976796</td>\n",
              "      <td>Christina</td>\n",
              "      <td>NaN</td>\n",
              "      <td>NaN</td>\n",
              "      <td>US</td>\n",
              "      <td>1461303341</td>\n",
              "      <td>NaN</td>\n",
              "      <td>NaN</td>\n",
              "      <td>1.0</td>\n",
              "      <td>Peter Tan</td>\n",
              "      <td>0</td>\n",
              "    </tr>\n",
              "    <tr>\n",
              "      <th>37</th>\n",
              "      <td>vikas1098</td>\n",
              "      <td>Vikas</td>\n",
              "      <td>Bengaluru</td>\n",
              "      <td>NaN</td>\n",
              "      <td>IN</td>\n",
              "      <td>1461301846</td>\n",
              "      <td>Software Engineer</td>\n",
              "      <td>NaN</td>\n",
              "      <td>2.0</td>\n",
              "      <td>NaN</td>\n",
              "      <td>0</td>\n",
              "    </tr>\n",
              "    <tr>\n",
              "      <th>39</th>\n",
              "      <td>qian1385</td>\n",
              "      <td>Qian</td>\n",
              "      <td>NaN</td>\n",
              "      <td>NaN</td>\n",
              "      <td>US</td>\n",
              "      <td>1461302036</td>\n",
              "      <td>NaN</td>\n",
              "      <td>NaN</td>\n",
              "      <td>2.0</td>\n",
              "      <td>NaN</td>\n",
              "      <td>0</td>\n",
              "    </tr>\n",
              "    <tr>\n",
              "      <th>42</th>\n",
              "      <td>xigg8769</td>\n",
              "      <td>Darla</td>\n",
              "      <td>Madison</td>\n",
              "      <td>NaN</td>\n",
              "      <td>US</td>\n",
              "      <td>1461302503</td>\n",
              "      <td>NaN</td>\n",
              "      <td>NaN</td>\n",
              "      <td>NaN</td>\n",
              "      <td>NaN</td>\n",
              "      <td>0</td>\n",
              "    </tr>\n",
              "  </tbody>\n",
              "</table>\n",
              "</div>"
            ],
            "text/plain": [
              "              lenders display_name  ... invited_by num_invited\n",
              "16         naresh2074       Naresh  ...        NaN           0\n",
              "31  christina27976796    Christina  ...  Peter Tan           0\n",
              "37          vikas1098        Vikas  ...        NaN           0\n",
              "39           qian1385         Qian  ...        NaN           0\n",
              "42           xigg8769        Darla  ...        NaN           0\n",
              "\n",
              "[5 rows x 11 columns]"
            ]
          },
          "metadata": {
            "tags": []
          },
          "execution_count": 72
        },
        {
          "output_type": "stream",
          "text": [
            "time: 3.94 s\n"
          ],
          "name": "stdout"
        }
      ]
    },
    {
      "cell_type": "code",
      "metadata": {
        "id": "DNOgOFAujdQV",
        "colab_type": "code",
        "colab": {
          "base_uri": "https://localhost:8080/",
          "height": 436
        },
        "outputId": "2623c472-1853-42c2-f4d0-cfa9a7dad835"
      },
      "source": [
        "# Merge between dataset lenders and the dataset created at the previous point \n",
        "df=merge.merge(lenders[['lenders','country_code']])\n",
        "# Compute the difference between loan_amount_x_lenders and funded_amount_x_lenders for each country\n",
        "diff_country=(df.groupby('country_code')['loan_amount_x_lenders'].sum()-df.groupby('country_code')['funded_amount_x_lenders'].sum()).reset_index(name='diff_between_fundedamount_and_loanamount')\n",
        "diff_country"
      ],
      "execution_count": 73,
      "outputs": [
        {
          "output_type": "execute_result",
          "data": {
            "text/html": [
              "<div>\n",
              "<style scoped>\n",
              "    .dataframe tbody tr th:only-of-type {\n",
              "        vertical-align: middle;\n",
              "    }\n",
              "\n",
              "    .dataframe tbody tr th {\n",
              "        vertical-align: top;\n",
              "    }\n",
              "\n",
              "    .dataframe thead th {\n",
              "        text-align: right;\n",
              "    }\n",
              "</style>\n",
              "<table border=\"1\" class=\"dataframe\">\n",
              "  <thead>\n",
              "    <tr style=\"text-align: right;\">\n",
              "      <th></th>\n",
              "      <th>country_code</th>\n",
              "      <th>diff_between_fundedamount_and_loanamount</th>\n",
              "    </tr>\n",
              "  </thead>\n",
              "  <tbody>\n",
              "    <tr>\n",
              "      <th>0</th>\n",
              "      <td>AD</td>\n",
              "      <td>62.087704</td>\n",
              "    </tr>\n",
              "    <tr>\n",
              "      <th>1</th>\n",
              "      <td>AE</td>\n",
              "      <td>43485.581793</td>\n",
              "    </tr>\n",
              "    <tr>\n",
              "      <th>2</th>\n",
              "      <td>AF</td>\n",
              "      <td>3623.762951</td>\n",
              "    </tr>\n",
              "    <tr>\n",
              "      <th>3</th>\n",
              "      <td>AG</td>\n",
              "      <td>0.000000</td>\n",
              "    </tr>\n",
              "    <tr>\n",
              "      <th>4</th>\n",
              "      <td>AI</td>\n",
              "      <td>0.000000</td>\n",
              "    </tr>\n",
              "    <tr>\n",
              "      <th>...</th>\n",
              "      <td>...</td>\n",
              "      <td>...</td>\n",
              "    </tr>\n",
              "    <tr>\n",
              "      <th>220</th>\n",
              "      <td>YE</td>\n",
              "      <td>42.500000</td>\n",
              "    </tr>\n",
              "    <tr>\n",
              "      <th>221</th>\n",
              "      <td>YT</td>\n",
              "      <td>0.000000</td>\n",
              "    </tr>\n",
              "    <tr>\n",
              "      <th>222</th>\n",
              "      <td>ZA</td>\n",
              "      <td>9289.940114</td>\n",
              "    </tr>\n",
              "    <tr>\n",
              "      <th>223</th>\n",
              "      <td>ZM</td>\n",
              "      <td>2616.493185</td>\n",
              "    </tr>\n",
              "    <tr>\n",
              "      <th>224</th>\n",
              "      <td>ZW</td>\n",
              "      <td>96.576486</td>\n",
              "    </tr>\n",
              "  </tbody>\n",
              "</table>\n",
              "<p>225 rows × 2 columns</p>\n",
              "</div>"
            ],
            "text/plain": [
              "    country_code  diff_between_fundedamount_and_loanamount\n",
              "0             AD                                 62.087704\n",
              "1             AE                              43485.581793\n",
              "2             AF                               3623.762951\n",
              "3             AG                                  0.000000\n",
              "4             AI                                  0.000000\n",
              "..           ...                                       ...\n",
              "220           YE                                 42.500000\n",
              "221           YT                                  0.000000\n",
              "222           ZA                               9289.940114\n",
              "223           ZM                               2616.493185\n",
              "224           ZW                                 96.576486\n",
              "\n",
              "[225 rows x 2 columns]"
            ]
          },
          "metadata": {
            "tags": []
          },
          "execution_count": 73
        },
        {
          "output_type": "stream",
          "text": [
            "time: 2.32 s\n"
          ],
          "name": "stdout"
        }
      ]
    },
    {
      "cell_type": "markdown",
      "metadata": {
        "id": "UQLaDbKb3OSF",
        "colab_type": "text"
      },
      "source": [
        "# 10) Which country has the highest ratio between the difference computed at the previous point and the population?"
      ]
    },
    {
      "cell_type": "code",
      "metadata": {
        "id": "4O6cOE9EfP5r",
        "colab_type": "code",
        "colab": {
          "base_uri": "https://localhost:8080/",
          "height": 97
        },
        "outputId": "19a68e65-f062-45e0-cbb6-23b132d747e8"
      },
      "source": [
        "# Read file country stats\n",
        "country_stats=pd.read_csv('/content/drive/My Drive/python/kiva/country_stats.csv')\n",
        "# Merge between dataset created at the previous point and dataset (country_stats)\n",
        "ratio_population=country_stats[['country_code','country_name','population']].merge(diff_country)\n",
        "# Create a new column about ratio between the difference computed at the previous point and the population\n",
        "ratio_population['ratio_diffFundedLoan_population']=ratio_population['diff_between_fundedamount_and_loanamount']/ratio_population['population']\n",
        "# Show the country  with the highest ratio\n",
        "ratio_population[ratio_population['ratio_diffFundedLoan_population']==ratio_population['ratio_diffFundedLoan_population'].max()]"
      ],
      "execution_count": 74,
      "outputs": [
        {
          "output_type": "execute_result",
          "data": {
            "text/html": [
              "<div>\n",
              "<style scoped>\n",
              "    .dataframe tbody tr th:only-of-type {\n",
              "        vertical-align: middle;\n",
              "    }\n",
              "\n",
              "    .dataframe tbody tr th {\n",
              "        vertical-align: top;\n",
              "    }\n",
              "\n",
              "    .dataframe thead th {\n",
              "        text-align: right;\n",
              "    }\n",
              "</style>\n",
              "<table border=\"1\" class=\"dataframe\">\n",
              "  <thead>\n",
              "    <tr style=\"text-align: right;\">\n",
              "      <th></th>\n",
              "      <th>country_code</th>\n",
              "      <th>country_name</th>\n",
              "      <th>population</th>\n",
              "      <th>diff_between_fundedamount_and_loanamount</th>\n",
              "      <th>ratio_diffFundedLoan_population</th>\n",
              "    </tr>\n",
              "  </thead>\n",
              "  <tbody>\n",
              "    <tr>\n",
              "      <th>156</th>\n",
              "      <td>NO</td>\n",
              "      <td>Norway</td>\n",
              "      <td>5305383</td>\n",
              "      <td>849455.417811</td>\n",
              "      <td>0.160112</td>\n",
              "    </tr>\n",
              "  </tbody>\n",
              "</table>\n",
              "</div>"
            ],
            "text/plain": [
              "    country_code  ... ratio_diffFundedLoan_population\n",
              "156           NO  ...                        0.160112\n",
              "\n",
              "[1 rows x 5 columns]"
            ]
          },
          "metadata": {
            "tags": []
          },
          "execution_count": 74
        },
        {
          "output_type": "stream",
          "text": [
            "time: 28.9 ms\n"
          ],
          "name": "stdout"
        }
      ]
    },
    {
      "cell_type": "markdown",
      "metadata": {
        "id": "mXS96kJA3JKq",
        "colab_type": "text"
      },
      "source": [
        "# 11) Which country has the highest ratio between the difference computed at point 9 and the population that is not below the poverty line"
      ]
    },
    {
      "cell_type": "code",
      "metadata": {
        "id": "dJNsb6F_mnsl",
        "colab_type": "code",
        "colab": {
          "base_uri": "https://localhost:8080/",
          "height": 34
        },
        "outputId": "d49e7518-2e24-4d07-e8f7-1a4adc0a09ac"
      },
      "source": [
        "# Drop rows with Nan values in 'population_below_poverty_line' columns and rename the column permanent name\n",
        "country_stats.dropna(subset=['population_below_poverty_line'],inplace=True)\n",
        "# For each country, create a new column about difference between the total amount of population and the amount of population under the poverty line\n",
        "country_stats['not_poor']=country_stats['population'] - (country_stats['population_below_poverty_line']*country_stats['population']/100)"
      ],
      "execution_count": 75,
      "outputs": [
        {
          "output_type": "stream",
          "text": [
            "time: 4.83 ms\n"
          ],
          "name": "stdout"
        }
      ]
    },
    {
      "cell_type": "code",
      "metadata": {
        "id": "KaWIttSBBYaK",
        "colab_type": "code",
        "colab": {
          "base_uri": "https://localhost:8080/",
          "height": 134
        },
        "outputId": "fff6058c-b31a-401e-9e8c-ddd9a0d08516"
      },
      "source": [
        "# Merge between dataset (country_stats_dropped) and dataset created at the point 9\n",
        "ratio_population_rich=country_stats.merge(diff_country)\n",
        "# Create a new column about ration between the difference computed at point 9 and the population that is not below the poverty line\n",
        "ratio_population_rich['ratio']=ratio_population_rich['diff_between_fundedamount_and_loanamount'] /ratio_population_rich['not_poor']\n",
        "\n",
        "ratio_population_rich[ratio_population_rich['diff_between_fundedamount_and_loanamount']==ratio_population_rich['diff_between_fundedamount_and_loanamount'].max()]"
      ],
      "execution_count": 76,
      "outputs": [
        {
          "output_type": "execute_result",
          "data": {
            "text/html": [
              "<div>\n",
              "<style scoped>\n",
              "    .dataframe tbody tr th:only-of-type {\n",
              "        vertical-align: middle;\n",
              "    }\n",
              "\n",
              "    .dataframe tbody tr th {\n",
              "        vertical-align: top;\n",
              "    }\n",
              "\n",
              "    .dataframe thead th {\n",
              "        text-align: right;\n",
              "    }\n",
              "</style>\n",
              "<table border=\"1\" class=\"dataframe\">\n",
              "  <thead>\n",
              "    <tr style=\"text-align: right;\">\n",
              "      <th></th>\n",
              "      <th>country_name</th>\n",
              "      <th>country_code</th>\n",
              "      <th>country_code3</th>\n",
              "      <th>continent</th>\n",
              "      <th>region</th>\n",
              "      <th>population</th>\n",
              "      <th>population_below_poverty_line</th>\n",
              "      <th>hdi</th>\n",
              "      <th>life_expectancy</th>\n",
              "      <th>expected_years_of_schooling</th>\n",
              "      <th>mean_years_of_schooling</th>\n",
              "      <th>gni</th>\n",
              "      <th>kiva_country_name</th>\n",
              "      <th>not_poor</th>\n",
              "      <th>diff_between_fundedamount_and_loanamount</th>\n",
              "      <th>ratio</th>\n",
              "    </tr>\n",
              "  </thead>\n",
              "  <tbody>\n",
              "    <tr>\n",
              "      <th>6</th>\n",
              "      <td>United States</td>\n",
              "      <td>US</td>\n",
              "      <td>USA</td>\n",
              "      <td>Americas</td>\n",
              "      <td>Northern America</td>\n",
              "      <td>324459463</td>\n",
              "      <td>15.1</td>\n",
              "      <td>0.919553</td>\n",
              "      <td>79.222</td>\n",
              "      <td>16.53815</td>\n",
              "      <td>13.21789</td>\n",
              "      <td>53245.07696</td>\n",
              "      <td>United States</td>\n",
              "      <td>2.754661e+08</td>\n",
              "      <td>1.849178e+07</td>\n",
              "      <td>0.067129</td>\n",
              "    </tr>\n",
              "  </tbody>\n",
              "</table>\n",
              "</div>"
            ],
            "text/plain": [
              "    country_name  ...     ratio\n",
              "6  United States  ...  0.067129\n",
              "\n",
              "[1 rows x 16 columns]"
            ]
          },
          "metadata": {
            "tags": []
          },
          "execution_count": 76
        },
        {
          "output_type": "stream",
          "text": [
            "time: 38.9 ms\n"
          ],
          "name": "stdout"
        }
      ]
    },
    {
      "cell_type": "markdown",
      "metadata": {
        "id": "_m-AqHQi3Efs",
        "colab_type": "text"
      },
      "source": [
        "# 12) For each year, compute the total amount of loans. Each loan that has planned expiration time and disburse time in different years must have its amount distributed proportionally to the number of days in each year. For example, a loan with disburse time December 1st, 2016, planned expiration time January 30th 2018, and amount 5000USD has an amount of 5000USD * 31 / (31+365+30) = 363.85 for 2016, 5000USD * 365 / (31+365+30) = 4284.04 for 2017, and 5000USD * 30 / (31+365+30) = 352.11 for 2018."
      ]
    },
    {
      "cell_type": "code",
      "metadata": {
        "id": "eQLbQa-JQ7MH",
        "colab_type": "code",
        "colab": {
          "base_uri": "https://localhost:8080/",
          "height": 34
        },
        "outputId": "ff092738-2509-4a7d-a8b0-ec888de06f0c"
      },
      "source": [
        "# Create a new column about the year of planned expiration time\n",
        "loans['planned_expiration_time_year']=pd.to_datetime(loans['planned_expiration_time']).dt.year\n",
        "# Drop rows with missing values in 'planned_expiration_time_year' column and 'disburse_time_year' column\n",
        "loans.dropna(subset=['planned_expiration_time_year'],inplace=True)\n",
        "loans.dropna(subset=['disburse_time_year'],inplace=True)\n",
        "# Remove rows where the year of disburse time is > than the year of planned expiration time\n",
        "loans=loans[loans['disburse_time']<=loans['planned_expiration_time']]"
      ],
      "execution_count": 77,
      "outputs": [
        {
          "output_type": "stream",
          "text": [
            "time: 1.98 s\n"
          ],
          "name": "stdout"
        }
      ]
    },
    {
      "cell_type": "code",
      "metadata": {
        "id": "uauoRQ5qSBYQ",
        "colab_type": "code",
        "colab": {
          "base_uri": "https://localhost:8080/",
          "height": 34
        },
        "outputId": "a3424f63-9dfc-4dce-daa1-f23ac57f7a19"
      },
      "source": [
        "# Create columns regarding days in year\n",
        "loans['days_in_disburse_time_year']=365\n",
        "loans['days_in_planned_expiration_time_year']=365\n",
        "loans.loc[loans['disburse_time_year'] == 2012, 'days_in_disburse_time_year'] = 366\n",
        "loans.loc[loans['disburse_time_year'] == 2016, 'days_in_disburse_time_year'] = 366\n",
        "loans.loc[loans['planned_expiration_time_year'] == 2012, 'days_in_planned_expiration_time_year'] = 366\n",
        "loans.loc[loans['planned_expiration_time_year'] == 2016, 'days_in_planned_expiration_time_year'] = 366"
      ],
      "execution_count": 78,
      "outputs": [
        {
          "output_type": "stream",
          "text": [
            "time: 69.5 ms\n"
          ],
          "name": "stdout"
        }
      ]
    },
    {
      "cell_type": "code",
      "metadata": {
        "id": "LoXFlxcLQ9nb",
        "colab_type": "code",
        "colab": {
          "base_uri": "https://localhost:8080/",
          "height": 34
        },
        "outputId": "0680a4ff-c530-411a-927e-fd2fc81a049b"
      },
      "source": [
        "# Created a new column with the number of days to be attributed to the first year\n",
        "loans['days_disburse_time_year']= loans['days_in_disburse_time_year']- pd.to_datetime(loans['disburse_time']).dt.dayofyear\n",
        "# Created a new column about the number of days of the relative year of planned expiration time\n",
        "loans['days_planned_expiration_time_year']=pd.to_datetime(loans['planned_expiration_time']).dt.dayofyear\n",
        "# Created a new column computing the difference in year between planned expiration time and disburse time\n",
        "loans['difference_years']=loans['planned_expiration_time_year']-loans['disburse_time_year']"
      ],
      "execution_count": 79,
      "outputs": [
        {
          "output_type": "stream",
          "text": [
            "time: 465 ms\n"
          ],
          "name": "stdout"
        }
      ]
    },
    {
      "cell_type": "code",
      "metadata": {
        "id": "2QhFayL0DqhK",
        "colab_type": "code",
        "colab": {
          "base_uri": "https://localhost:8080/",
          "height": 34
        },
        "outputId": "24ece8fb-aa67-4b63-eedc-17def6bec44e"
      },
      "source": [
        "# Redefinite duration to have only date without hour\n",
        "loans['duration']=loans['planned_expiration_time'] - loans['disburse_time']\n",
        "loans[\"duration\"]=loans[\"duration\"].dt.days"
      ],
      "execution_count": 80,
      "outputs": [
        {
          "output_type": "stream",
          "text": [
            "time: 3.08 s\n"
          ],
          "name": "stdout"
        }
      ]
    },
    {
      "cell_type": "code",
      "metadata": {
        "id": "PoiW8eqVRDzw",
        "colab_type": "code",
        "colab": {
          "base_uri": "https://localhost:8080/",
          "height": 34
        },
        "outputId": "c65b972c-5249-4b72-bdeb-250ea9e36120"
      },
      "source": [
        "# Created new columns for each year of our interest\n",
        "bound = range(int(loans['disburse_time_year'].min()),int(loans['planned_expiration_time_year'].max())+1)\n",
        "for i in bound:\n",
        "    loans[str(i)] = 0"
      ],
      "execution_count": 81,
      "outputs": [
        {
          "output_type": "stream",
          "text": [
            "time: 21.5 ms\n"
          ],
          "name": "stdout"
        }
      ]
    },
    {
      "cell_type": "code",
      "metadata": {
        "id": "aQhTGhspRDut",
        "colab_type": "code",
        "colab": {
          "base_uri": "https://localhost:8080/",
          "height": 241
        },
        "outputId": "331e99d7-d13b-4b31-a444-f8bc89d0b71d"
      },
      "source": [
        "# Selected only columns we need\n",
        "atribute = ['loan_amount', '2011', '2012', '2013', '2014','2015', '2016', \n",
        "            '2017', '2018', 'difference_years', 'days_disburse_time_year',\n",
        "            'days_planned_expiration_time_year', 'disburse_time_year', 'planned_expiration_time_year','duration']\n",
        "loans = loans[atribute]\n",
        "loans.head()"
      ],
      "execution_count": 82,
      "outputs": [
        {
          "output_type": "execute_result",
          "data": {
            "text/html": [
              "<div>\n",
              "<style scoped>\n",
              "    .dataframe tbody tr th:only-of-type {\n",
              "        vertical-align: middle;\n",
              "    }\n",
              "\n",
              "    .dataframe tbody tr th {\n",
              "        vertical-align: top;\n",
              "    }\n",
              "\n",
              "    .dataframe thead th {\n",
              "        text-align: right;\n",
              "    }\n",
              "</style>\n",
              "<table border=\"1\" class=\"dataframe\">\n",
              "  <thead>\n",
              "    <tr style=\"text-align: right;\">\n",
              "      <th></th>\n",
              "      <th>loan_amount</th>\n",
              "      <th>2011</th>\n",
              "      <th>2012</th>\n",
              "      <th>2013</th>\n",
              "      <th>2014</th>\n",
              "      <th>2015</th>\n",
              "      <th>2016</th>\n",
              "      <th>2017</th>\n",
              "      <th>2018</th>\n",
              "      <th>difference_years</th>\n",
              "      <th>days_disburse_time_year</th>\n",
              "      <th>days_planned_expiration_time_year</th>\n",
              "      <th>disburse_time_year</th>\n",
              "      <th>planned_expiration_time_year</th>\n",
              "      <th>duration</th>\n",
              "    </tr>\n",
              "  </thead>\n",
              "  <tbody>\n",
              "    <tr>\n",
              "      <th>0</th>\n",
              "      <td>125.0</td>\n",
              "      <td>0</td>\n",
              "      <td>0</td>\n",
              "      <td>0</td>\n",
              "      <td>0</td>\n",
              "      <td>0</td>\n",
              "      <td>0</td>\n",
              "      <td>0</td>\n",
              "      <td>0</td>\n",
              "      <td>1.0</td>\n",
              "      <td>9</td>\n",
              "      <td>45</td>\n",
              "      <td>2013.0</td>\n",
              "      <td>2014.0</td>\n",
              "      <td>54</td>\n",
              "    </tr>\n",
              "    <tr>\n",
              "      <th>1</th>\n",
              "      <td>400.0</td>\n",
              "      <td>0</td>\n",
              "      <td>0</td>\n",
              "      <td>0</td>\n",
              "      <td>0</td>\n",
              "      <td>0</td>\n",
              "      <td>0</td>\n",
              "      <td>0</td>\n",
              "      <td>0</td>\n",
              "      <td>1.0</td>\n",
              "      <td>11</td>\n",
              "      <td>85</td>\n",
              "      <td>2013.0</td>\n",
              "      <td>2014.0</td>\n",
              "      <td>96</td>\n",
              "    </tr>\n",
              "    <tr>\n",
              "      <th>2</th>\n",
              "      <td>400.0</td>\n",
              "      <td>0</td>\n",
              "      <td>0</td>\n",
              "      <td>0</td>\n",
              "      <td>0</td>\n",
              "      <td>0</td>\n",
              "      <td>0</td>\n",
              "      <td>0</td>\n",
              "      <td>0</td>\n",
              "      <td>0.0</td>\n",
              "      <td>356</td>\n",
              "      <td>46</td>\n",
              "      <td>2014.0</td>\n",
              "      <td>2014.0</td>\n",
              "      <td>37</td>\n",
              "    </tr>\n",
              "    <tr>\n",
              "      <th>3</th>\n",
              "      <td>625.0</td>\n",
              "      <td>0</td>\n",
              "      <td>0</td>\n",
              "      <td>0</td>\n",
              "      <td>0</td>\n",
              "      <td>0</td>\n",
              "      <td>0</td>\n",
              "      <td>0</td>\n",
              "      <td>0</td>\n",
              "      <td>0.0</td>\n",
              "      <td>348</td>\n",
              "      <td>52</td>\n",
              "      <td>2014.0</td>\n",
              "      <td>2014.0</td>\n",
              "      <td>35</td>\n",
              "    </tr>\n",
              "    <tr>\n",
              "      <th>4</th>\n",
              "      <td>425.0</td>\n",
              "      <td>0</td>\n",
              "      <td>0</td>\n",
              "      <td>0</td>\n",
              "      <td>0</td>\n",
              "      <td>0</td>\n",
              "      <td>0</td>\n",
              "      <td>0</td>\n",
              "      <td>0</td>\n",
              "      <td>1.0</td>\n",
              "      <td>14</td>\n",
              "      <td>44</td>\n",
              "      <td>2013.0</td>\n",
              "      <td>2014.0</td>\n",
              "      <td>58</td>\n",
              "    </tr>\n",
              "  </tbody>\n",
              "</table>\n",
              "</div>"
            ],
            "text/plain": [
              "   loan_amount  2011  ...  planned_expiration_time_year  duration\n",
              "0        125.0     0  ...                        2014.0        54\n",
              "1        400.0     0  ...                        2014.0        96\n",
              "2        400.0     0  ...                        2014.0        37\n",
              "3        625.0     0  ...                        2014.0        35\n",
              "4        425.0     0  ...                        2014.0        58\n",
              "\n",
              "[5 rows x 15 columns]"
            ]
          },
          "metadata": {
            "tags": []
          },
          "execution_count": 82
        },
        {
          "output_type": "stream",
          "text": [
            "time: 964 ms\n"
          ],
          "name": "stdout"
        }
      ]
    },
    {
      "cell_type": "code",
      "metadata": {
        "colab_type": "code",
        "id": "A6bz_g1vUGjo",
        "colab": {
          "base_uri": "https://localhost:8080/",
          "height": 34
        },
        "outputId": "84cb3201-b6e8-4490-9c35-be933fc120ff"
      },
      "source": [
        " loans['difference_years'].unique()"
      ],
      "execution_count": 83,
      "outputs": [
        {
          "output_type": "execute_result",
          "data": {
            "text/plain": [
              "array([1., 0., 5., 4.])"
            ]
          },
          "metadata": {
            "tags": []
          },
          "execution_count": 83
        },
        {
          "output_type": "stream",
          "text": [
            "time: 16.9 ms\n"
          ],
          "name": "stdout"
        }
      ]
    },
    {
      "cell_type": "code",
      "metadata": {
        "id": "XrmQycboQNSn",
        "colab_type": "code",
        "colab": {
          "base_uri": "https://localhost:8080/",
          "height": 34
        },
        "outputId": "f2049bd9-3647-451e-c847-f97b49024430"
      },
      "source": [
        " # Function \n",
        "def loan(x):\n",
        "    if x['difference_years'] == 0: \n",
        "        x[str(int(x['disburse_time_year']))]= x['loan_amount']\n",
        "                                                       \n",
        "    elif x['difference_years']== 1:\n",
        "        x[str(int(x['disburse_time_year']))]= (x['days_disburse_time_year']*x['loan_amount']) / x['duration']\n",
        "        x[str(int(x['planned_expiration_time_year']))]= x['loan_amount'] - x[str(int(x['disburse_time_year']))]\n",
        "        \n",
        "    elif x['difference_years'] > 1:\n",
        "        x[str(int(x['disburse_time_year']))]= x['days_disburse_time_year']*x['loan_amount'] / x['duration']\n",
        "        x[str(int(x['planned_expiration_time_year']))]=(x['days_planned_expiration_time_year']*x['loan_amount'])/ x['duration']\n",
        "        \n",
        "        for y in range(1,int(x['difference_years'])):\n",
        "          if (int(x['disburse_time_year']+y) == 2012 or int(x['disburse_time_year']+y) == 2016) :\n",
        "            x[str(int(x['disburse_time_year']+y))] = (366*x['loan_amount'])/ x['duration']\n",
        "          else :\n",
        "            x[str(int(x['disburse_time_year']+y))] = (365*x['loan_amount'])/ x['duration']\n",
        "\n",
        "    return x"
      ],
      "execution_count": 84,
      "outputs": [
        {
          "output_type": "stream",
          "text": [
            "time: 12.3 ms\n"
          ],
          "name": "stdout"
        }
      ]
    },
    {
      "cell_type": "code",
      "metadata": {
        "id": "AmCYYSSaUMr4",
        "colab_type": "code",
        "colab": {
          "base_uri": "https://localhost:8080/",
          "height": 241
        },
        "outputId": "8300e0c2-4096-4dc7-fd62-81dd0aeb9fea"
      },
      "source": [
        "# Apply function\n",
        "df1 = loans.apply(loan,axis=1)\n",
        "df1.head()"
      ],
      "execution_count": 85,
      "outputs": [
        {
          "output_type": "execute_result",
          "data": {
            "text/html": [
              "<div>\n",
              "<style scoped>\n",
              "    .dataframe tbody tr th:only-of-type {\n",
              "        vertical-align: middle;\n",
              "    }\n",
              "\n",
              "    .dataframe tbody tr th {\n",
              "        vertical-align: top;\n",
              "    }\n",
              "\n",
              "    .dataframe thead th {\n",
              "        text-align: right;\n",
              "    }\n",
              "</style>\n",
              "<table border=\"1\" class=\"dataframe\">\n",
              "  <thead>\n",
              "    <tr style=\"text-align: right;\">\n",
              "      <th></th>\n",
              "      <th>loan_amount</th>\n",
              "      <th>2011</th>\n",
              "      <th>2012</th>\n",
              "      <th>2013</th>\n",
              "      <th>2014</th>\n",
              "      <th>2015</th>\n",
              "      <th>2016</th>\n",
              "      <th>2017</th>\n",
              "      <th>2018</th>\n",
              "      <th>difference_years</th>\n",
              "      <th>days_disburse_time_year</th>\n",
              "      <th>days_planned_expiration_time_year</th>\n",
              "      <th>disburse_time_year</th>\n",
              "      <th>planned_expiration_time_year</th>\n",
              "      <th>duration</th>\n",
              "    </tr>\n",
              "  </thead>\n",
              "  <tbody>\n",
              "    <tr>\n",
              "      <th>0</th>\n",
              "      <td>125.0</td>\n",
              "      <td>0.0</td>\n",
              "      <td>0.0</td>\n",
              "      <td>20.833333</td>\n",
              "      <td>104.166667</td>\n",
              "      <td>0.0</td>\n",
              "      <td>0.0</td>\n",
              "      <td>0.0</td>\n",
              "      <td>0.0</td>\n",
              "      <td>1.0</td>\n",
              "      <td>9.0</td>\n",
              "      <td>45.0</td>\n",
              "      <td>2013.0</td>\n",
              "      <td>2014.0</td>\n",
              "      <td>54.0</td>\n",
              "    </tr>\n",
              "    <tr>\n",
              "      <th>1</th>\n",
              "      <td>400.0</td>\n",
              "      <td>0.0</td>\n",
              "      <td>0.0</td>\n",
              "      <td>45.833333</td>\n",
              "      <td>354.166667</td>\n",
              "      <td>0.0</td>\n",
              "      <td>0.0</td>\n",
              "      <td>0.0</td>\n",
              "      <td>0.0</td>\n",
              "      <td>1.0</td>\n",
              "      <td>11.0</td>\n",
              "      <td>85.0</td>\n",
              "      <td>2013.0</td>\n",
              "      <td>2014.0</td>\n",
              "      <td>96.0</td>\n",
              "    </tr>\n",
              "    <tr>\n",
              "      <th>2</th>\n",
              "      <td>400.0</td>\n",
              "      <td>0.0</td>\n",
              "      <td>0.0</td>\n",
              "      <td>0.000000</td>\n",
              "      <td>400.000000</td>\n",
              "      <td>0.0</td>\n",
              "      <td>0.0</td>\n",
              "      <td>0.0</td>\n",
              "      <td>0.0</td>\n",
              "      <td>0.0</td>\n",
              "      <td>356.0</td>\n",
              "      <td>46.0</td>\n",
              "      <td>2014.0</td>\n",
              "      <td>2014.0</td>\n",
              "      <td>37.0</td>\n",
              "    </tr>\n",
              "    <tr>\n",
              "      <th>3</th>\n",
              "      <td>625.0</td>\n",
              "      <td>0.0</td>\n",
              "      <td>0.0</td>\n",
              "      <td>0.000000</td>\n",
              "      <td>625.000000</td>\n",
              "      <td>0.0</td>\n",
              "      <td>0.0</td>\n",
              "      <td>0.0</td>\n",
              "      <td>0.0</td>\n",
              "      <td>0.0</td>\n",
              "      <td>348.0</td>\n",
              "      <td>52.0</td>\n",
              "      <td>2014.0</td>\n",
              "      <td>2014.0</td>\n",
              "      <td>35.0</td>\n",
              "    </tr>\n",
              "    <tr>\n",
              "      <th>4</th>\n",
              "      <td>425.0</td>\n",
              "      <td>0.0</td>\n",
              "      <td>0.0</td>\n",
              "      <td>102.586207</td>\n",
              "      <td>322.413793</td>\n",
              "      <td>0.0</td>\n",
              "      <td>0.0</td>\n",
              "      <td>0.0</td>\n",
              "      <td>0.0</td>\n",
              "      <td>1.0</td>\n",
              "      <td>14.0</td>\n",
              "      <td>44.0</td>\n",
              "      <td>2013.0</td>\n",
              "      <td>2014.0</td>\n",
              "      <td>58.0</td>\n",
              "    </tr>\n",
              "  </tbody>\n",
              "</table>\n",
              "</div>"
            ],
            "text/plain": [
              "   loan_amount  2011  ...  planned_expiration_time_year  duration\n",
              "0        125.0   0.0  ...                        2014.0      54.0\n",
              "1        400.0   0.0  ...                        2014.0      96.0\n",
              "2        400.0   0.0  ...                        2014.0      37.0\n",
              "3        625.0   0.0  ...                        2014.0      35.0\n",
              "4        425.0   0.0  ...                        2014.0      58.0\n",
              "\n",
              "[5 rows x 15 columns]"
            ]
          },
          "metadata": {
            "tags": []
          },
          "execution_count": 85
        },
        {
          "output_type": "stream",
          "text": [
            "time: 2min 38s\n"
          ],
          "name": "stdout"
        }
      ]
    },
    {
      "cell_type": "code",
      "metadata": {
        "id": "lpdxubQgUPQd",
        "colab_type": "code",
        "colab": {
          "base_uri": "https://localhost:8080/",
          "height": 314
        },
        "outputId": "3f5ce938-0c62-4d82-bdd9-ea5eedbcb405"
      },
      "source": [
        "# Show result\n",
        "loan_amount_by_years=df1[df1.columns[1:9]].transpose()\n",
        "loan_amount_by_years['total']=loan_amount_by_years.sum(axis=1)\n",
        "pd.DataFrame(loan_amount_by_years['total']).reset_index().rename(columns={'index':'year'}).round(1)"
      ],
      "execution_count": 86,
      "outputs": [
        {
          "output_type": "execute_result",
          "data": {
            "text/html": [
              "<div>\n",
              "<style scoped>\n",
              "    .dataframe tbody tr th:only-of-type {\n",
              "        vertical-align: middle;\n",
              "    }\n",
              "\n",
              "    .dataframe tbody tr th {\n",
              "        vertical-align: top;\n",
              "    }\n",
              "\n",
              "    .dataframe thead th {\n",
              "        text-align: right;\n",
              "    }\n",
              "</style>\n",
              "<table border=\"1\" class=\"dataframe\">\n",
              "  <thead>\n",
              "    <tr style=\"text-align: right;\">\n",
              "      <th></th>\n",
              "      <th>year</th>\n",
              "      <th>total</th>\n",
              "    </tr>\n",
              "  </thead>\n",
              "  <tbody>\n",
              "    <tr>\n",
              "      <th>0</th>\n",
              "      <td>2011</td>\n",
              "      <td>629911.8</td>\n",
              "    </tr>\n",
              "    <tr>\n",
              "      <th>1</th>\n",
              "      <td>2012</td>\n",
              "      <td>113052306.2</td>\n",
              "    </tr>\n",
              "    <tr>\n",
              "      <th>2</th>\n",
              "      <td>2013</td>\n",
              "      <td>123503841.5</td>\n",
              "    </tr>\n",
              "    <tr>\n",
              "      <th>3</th>\n",
              "      <td>2014</td>\n",
              "      <td>150678644.5</td>\n",
              "    </tr>\n",
              "    <tr>\n",
              "      <th>4</th>\n",
              "      <td>2015</td>\n",
              "      <td>155287735.8</td>\n",
              "    </tr>\n",
              "    <tr>\n",
              "      <th>5</th>\n",
              "      <td>2016</td>\n",
              "      <td>154235797.7</td>\n",
              "    </tr>\n",
              "    <tr>\n",
              "      <th>6</th>\n",
              "      <td>2017</td>\n",
              "      <td>165726691.6</td>\n",
              "    </tr>\n",
              "    <tr>\n",
              "      <th>7</th>\n",
              "      <td>2018</td>\n",
              "      <td>5079945.8</td>\n",
              "    </tr>\n",
              "  </tbody>\n",
              "</table>\n",
              "</div>"
            ],
            "text/plain": [
              "   year        total\n",
              "0  2011     629911.8\n",
              "1  2012  113052306.2\n",
              "2  2013  123503841.5\n",
              "3  2014  150678644.5\n",
              "4  2015  155287735.8\n",
              "5  2016  154235797.7\n",
              "6  2017  165726691.6\n",
              "7  2018    5079945.8"
            ]
          },
          "metadata": {
            "tags": []
          },
          "execution_count": 86
        },
        {
          "output_type": "stream",
          "text": [
            "time: 296 ms\n"
          ],
          "name": "stdout"
        }
      ]
    }
  ]
}