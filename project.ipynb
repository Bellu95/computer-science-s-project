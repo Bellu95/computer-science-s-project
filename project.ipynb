{
  "nbformat": 4,
  "nbformat_minor": 0,
  "metadata": {
    "colab": {
      "name": "progetx.ipynb",
      "provenance": [],
      "collapsed_sections": [],
      "machine_shape": "hm"
    },
    "kernelspec": {
      "name": "python3",
      "display_name": "Python 3"
    },
    "accelerator": "GPU"
  },
  "cells": [
    {
      "cell_type": "code",
      "metadata": {
        "id": "cgWyJBs7FMxX",
        "colab_type": "code",
        "colab": {
          "base_uri": "https://localhost:8080/",
          "height": 34
        },
        "outputId": "bc971bde-8306-4313-ef50-91e678f06bc1"
      },
      "source": [
        "import pandas as pd\n",
        "import numpy as np\n",
        "from google.colab import drive\n",
        "from google.colab import files\n",
        "\n",
        "# mount google drive\n",
        "drive.mount('/content/drive', force_remount=True)"
      ],
      "execution_count": 2,
      "outputs": [
        {
          "output_type": "stream",
          "text": [
            "Mounted at /content/drive\n"
          ],
          "name": "stdout"
        }
      ]
    },
    {
      "cell_type": "code",
      "metadata": {
        "id": "bAIjxWoYHGS-",
        "colab_type": "code",
        "colab": {
          "base_uri": "https://localhost:8080/",
          "height": 204
        },
        "outputId": "7691539c-fc16-4b40-be76-3e6548784203"
      },
      "source": [
        "# Read loans lenders file\n",
        "loans_lenders = pd.read_csv(\"/content/drive/My Drive/python/kiva/loans_lenders.csv\")\n",
        "loans_lenders.head()"
      ],
      "execution_count": 3,
      "outputs": [
        {
          "output_type": "execute_result",
          "data": {
            "text/html": [
              "<div>\n",
              "<style scoped>\n",
              "    .dataframe tbody tr th:only-of-type {\n",
              "        vertical-align: middle;\n",
              "    }\n",
              "\n",
              "    .dataframe tbody tr th {\n",
              "        vertical-align: top;\n",
              "    }\n",
              "\n",
              "    .dataframe thead th {\n",
              "        text-align: right;\n",
              "    }\n",
              "</style>\n",
              "<table border=\"1\" class=\"dataframe\">\n",
              "  <thead>\n",
              "    <tr style=\"text-align: right;\">\n",
              "      <th></th>\n",
              "      <th>loan_id</th>\n",
              "      <th>lenders</th>\n",
              "    </tr>\n",
              "  </thead>\n",
              "  <tbody>\n",
              "    <tr>\n",
              "      <th>0</th>\n",
              "      <td>483693</td>\n",
              "      <td>muc888, sam4326, camaran3922, lachheb1865, reb...</td>\n",
              "    </tr>\n",
              "    <tr>\n",
              "      <th>1</th>\n",
              "      <td>483738</td>\n",
              "      <td>muc888, nora3555, williammanashi, barbara5610,...</td>\n",
              "    </tr>\n",
              "    <tr>\n",
              "      <th>2</th>\n",
              "      <td>485000</td>\n",
              "      <td>muc888, terrystl, richardandsusan8352, sherri4...</td>\n",
              "    </tr>\n",
              "    <tr>\n",
              "      <th>3</th>\n",
              "      <td>486087</td>\n",
              "      <td>muc888, james5068, rudi5955, daniel9859, don92...</td>\n",
              "    </tr>\n",
              "    <tr>\n",
              "      <th>4</th>\n",
              "      <td>534428</td>\n",
              "      <td>muc888, niki3008, teresa9174, mike4896, david7...</td>\n",
              "    </tr>\n",
              "  </tbody>\n",
              "</table>\n",
              "</div>"
            ],
            "text/plain": [
              "   loan_id                                            lenders\n",
              "0   483693  muc888, sam4326, camaran3922, lachheb1865, reb...\n",
              "1   483738  muc888, nora3555, williammanashi, barbara5610,...\n",
              "2   485000  muc888, terrystl, richardandsusan8352, sherri4...\n",
              "3   486087  muc888, james5068, rudi5955, daniel9859, don92...\n",
              "4   534428  muc888, niki3008, teresa9174, mike4896, david7..."
            ]
          },
          "metadata": {
            "tags": []
          },
          "execution_count": 3
        }
      ]
    },
    {
      "cell_type": "markdown",
      "metadata": {
        "id": "0k2_QfnvbvA-",
        "colab_type": "text"
      },
      "source": [
        "1) Normalize the loan_lenders table. In the normalized table, each row must have one loan_id and one lender.\n"
      ]
    },
    {
      "cell_type": "code",
      "metadata": {
        "id": "qGUIFAyYFOzE",
        "colab_type": "code",
        "colab": {
          "base_uri": "https://localhost:8080/",
          "height": 359
        },
        "outputId": "007df6ac-2f5a-4cd7-8de7-4abde9a359c6"
      },
      "source": [
        "# Each row is converted from string to list\n",
        "loans_lenders['lenders'] = loans_lenders['lenders'].apply(lambda x:x.replace(',','').split())\n",
        "# The explode function allows to transform each element of a list-like to a row, replicating index values by loan_columns\n",
        "loans_lenders_splitted = loans_lenders.explode('lenders').reset_index(drop=True)\n",
        "loans_lenders_splitted.head(10)"
      ],
      "execution_count": 4,
      "outputs": [
        {
          "output_type": "execute_result",
          "data": {
            "text/html": [
              "<div>\n",
              "<style scoped>\n",
              "    .dataframe tbody tr th:only-of-type {\n",
              "        vertical-align: middle;\n",
              "    }\n",
              "\n",
              "    .dataframe tbody tr th {\n",
              "        vertical-align: top;\n",
              "    }\n",
              "\n",
              "    .dataframe thead th {\n",
              "        text-align: right;\n",
              "    }\n",
              "</style>\n",
              "<table border=\"1\" class=\"dataframe\">\n",
              "  <thead>\n",
              "    <tr style=\"text-align: right;\">\n",
              "      <th></th>\n",
              "      <th>loan_id</th>\n",
              "      <th>lenders</th>\n",
              "    </tr>\n",
              "  </thead>\n",
              "  <tbody>\n",
              "    <tr>\n",
              "      <th>0</th>\n",
              "      <td>483693</td>\n",
              "      <td>muc888</td>\n",
              "    </tr>\n",
              "    <tr>\n",
              "      <th>1</th>\n",
              "      <td>483693</td>\n",
              "      <td>sam4326</td>\n",
              "    </tr>\n",
              "    <tr>\n",
              "      <th>2</th>\n",
              "      <td>483693</td>\n",
              "      <td>camaran3922</td>\n",
              "    </tr>\n",
              "    <tr>\n",
              "      <th>3</th>\n",
              "      <td>483693</td>\n",
              "      <td>lachheb1865</td>\n",
              "    </tr>\n",
              "    <tr>\n",
              "      <th>4</th>\n",
              "      <td>483693</td>\n",
              "      <td>rebecca3499</td>\n",
              "    </tr>\n",
              "    <tr>\n",
              "      <th>5</th>\n",
              "      <td>483693</td>\n",
              "      <td>karlheinz4543</td>\n",
              "    </tr>\n",
              "    <tr>\n",
              "      <th>6</th>\n",
              "      <td>483693</td>\n",
              "      <td>jerrydb</td>\n",
              "    </tr>\n",
              "    <tr>\n",
              "      <th>7</th>\n",
              "      <td>483693</td>\n",
              "      <td>paula8951</td>\n",
              "    </tr>\n",
              "    <tr>\n",
              "      <th>8</th>\n",
              "      <td>483693</td>\n",
              "      <td>gmct</td>\n",
              "    </tr>\n",
              "    <tr>\n",
              "      <th>9</th>\n",
              "      <td>483693</td>\n",
              "      <td>amra9383</td>\n",
              "    </tr>\n",
              "  </tbody>\n",
              "</table>\n",
              "</div>"
            ],
            "text/plain": [
              "   loan_id        lenders\n",
              "0   483693         muc888\n",
              "1   483693        sam4326\n",
              "2   483693    camaran3922\n",
              "3   483693    lachheb1865\n",
              "4   483693    rebecca3499\n",
              "5   483693  karlheinz4543\n",
              "6   483693        jerrydb\n",
              "7   483693      paula8951\n",
              "8   483693           gmct\n",
              "9   483693       amra9383"
            ]
          },
          "metadata": {
            "tags": []
          },
          "execution_count": 4
        }
      ]
    },
    {
      "cell_type": "markdown",
      "metadata": {
        "id": "Gng1P3Hd3sEB",
        "colab_type": "text"
      },
      "source": [
        "2) For each loan, add a column duration corresponding to the number of days between the disburse time and the planned expiration time. If any of those two dates is missing, also the duration must be missing"
      ]
    },
    {
      "cell_type": "code",
      "metadata": {
        "id": "dPbg0Cfsm9GA",
        "colab_type": "code",
        "colab": {
          "base_uri": "https://localhost:8080/",
          "height": 119
        },
        "outputId": "d24463fd-62c8-4d77-a292-297f35aebd1d"
      },
      "source": [
        "# Read loans file\n",
        "loans = pd.read_csv(\"/content/drive/My Drive/python/kiva/loans.csv\")\n",
        "# Transform 'planned_expiration_time' and 'disburse_time' in pandas datetime format\n",
        "loans['planned_expiration_time']=pd.to_datetime(loans['planned_expiration_time']).dt.date\n",
        "loans['disburse_time']=pd.to_datetime(loans['disburse_time']).dt.date\n",
        "# Create column 'duration'\n",
        "loans['duration']=loans['planned_expiration_time'] - loans['disburse_time']\n",
        "# Show columns 'duration'\n",
        "loans['duration'].head()"
      ],
      "execution_count": 5,
      "outputs": [
        {
          "output_type": "execute_result",
          "data": {
            "text/plain": [
              "0   54 days\n",
              "1   96 days\n",
              "2   37 days\n",
              "3   35 days\n",
              "4   58 days\n",
              "Name: duration, dtype: timedelta64[ns]"
            ]
          },
          "metadata": {
            "tags": []
          },
          "execution_count": 5
        }
      ]
    },
    {
      "cell_type": "markdown",
      "metadata": {
        "id": "sIsiAQzz3pGg",
        "colab_type": "text"
      },
      "source": [
        "3) Find the lenders that have funded at least twice "
      ]
    },
    {
      "cell_type": "code",
      "metadata": {
        "id": "o_qw24bUy00w",
        "colab_type": "code",
        "colab": {
          "base_uri": "https://localhost:8080/",
          "height": 204
        },
        "outputId": "c54098d2-e70d-473a-ad93-a707b152827a"
      },
      "source": [
        "lenders_funded=loans_lenders_splitted.groupby('lenders')['loan_id'].count().reset_index(name = 'count_funded')\n",
        "lenders_funded[lenders_funded['count_funded']>1].head()"
      ],
      "execution_count": 6,
      "outputs": [
        {
          "output_type": "execute_result",
          "data": {
            "text/html": [
              "<div>\n",
              "<style scoped>\n",
              "    .dataframe tbody tr th:only-of-type {\n",
              "        vertical-align: middle;\n",
              "    }\n",
              "\n",
              "    .dataframe tbody tr th {\n",
              "        vertical-align: top;\n",
              "    }\n",
              "\n",
              "    .dataframe thead th {\n",
              "        text-align: right;\n",
              "    }\n",
              "</style>\n",
              "<table border=\"1\" class=\"dataframe\">\n",
              "  <thead>\n",
              "    <tr style=\"text-align: right;\">\n",
              "      <th></th>\n",
              "      <th>lenders</th>\n",
              "      <th>count_funded</th>\n",
              "    </tr>\n",
              "  </thead>\n",
              "  <tbody>\n",
              "    <tr>\n",
              "      <th>0</th>\n",
              "      <td>000</td>\n",
              "      <td>40</td>\n",
              "    </tr>\n",
              "    <tr>\n",
              "      <th>1</th>\n",
              "      <td>00000</td>\n",
              "      <td>39</td>\n",
              "    </tr>\n",
              "    <tr>\n",
              "      <th>2</th>\n",
              "      <td>0002</td>\n",
              "      <td>70</td>\n",
              "    </tr>\n",
              "    <tr>\n",
              "      <th>4</th>\n",
              "      <td>0101craign0101</td>\n",
              "      <td>71</td>\n",
              "    </tr>\n",
              "    <tr>\n",
              "      <th>5</th>\n",
              "      <td>0132575</td>\n",
              "      <td>4</td>\n",
              "    </tr>\n",
              "  </tbody>\n",
              "</table>\n",
              "</div>"
            ],
            "text/plain": [
              "          lenders  count_funded\n",
              "0             000            40\n",
              "1           00000            39\n",
              "2            0002            70\n",
              "4  0101craign0101            71\n",
              "5         0132575             4"
            ]
          },
          "metadata": {
            "tags": []
          },
          "execution_count": 6
        }
      ]
    },
    {
      "cell_type": "code",
      "metadata": {
        "id": "7RC3jvo_MUFE",
        "colab_type": "code",
        "colab": {
          "base_uri": "https://localhost:8080/",
          "height": 34
        },
        "outputId": "34541bcf-4e26-45af-9d44-d6cc62dbeb57"
      },
      "source": [
        "print('The exact number about lenders that have funded at least twice is: ', len(lenders_funded[lenders_funded['count_funded']>1]))"
      ],
      "execution_count": 7,
      "outputs": [
        {
          "output_type": "stream",
          "text": [
            "The exact number about lenders that have funded at least twice is:  901811\n"
          ],
          "name": "stdout"
        }
      ]
    },
    {
      "cell_type": "markdown",
      "metadata": {
        "id": "lxRZNZbz3mNw",
        "colab_type": "text"
      },
      "source": [
        "4) For each country, compute how many loans have involved that country as borrowers"
      ]
    },
    {
      "cell_type": "code",
      "metadata": {
        "id": "6PciZlX37d_D",
        "colab_type": "code",
        "colab": {
          "base_uri": "https://localhost:8080/",
          "height": 204
        },
        "outputId": "959de809-91d0-4334-b4cb-84bb914587a4"
      },
      "source": [
        "Loan_by_country=loans.groupby('country_name')['loan_id'].count().reset_index(name = 'loans_count')\n",
        "Loan_by_country.head()"
      ],
      "execution_count": 8,
      "outputs": [
        {
          "output_type": "execute_result",
          "data": {
            "text/html": [
              "<div>\n",
              "<style scoped>\n",
              "    .dataframe tbody tr th:only-of-type {\n",
              "        vertical-align: middle;\n",
              "    }\n",
              "\n",
              "    .dataframe tbody tr th {\n",
              "        vertical-align: top;\n",
              "    }\n",
              "\n",
              "    .dataframe thead th {\n",
              "        text-align: right;\n",
              "    }\n",
              "</style>\n",
              "<table border=\"1\" class=\"dataframe\">\n",
              "  <thead>\n",
              "    <tr style=\"text-align: right;\">\n",
              "      <th></th>\n",
              "      <th>country_name</th>\n",
              "      <th>loans_count</th>\n",
              "    </tr>\n",
              "  </thead>\n",
              "  <tbody>\n",
              "    <tr>\n",
              "      <th>0</th>\n",
              "      <td>Afghanistan</td>\n",
              "      <td>2337</td>\n",
              "    </tr>\n",
              "    <tr>\n",
              "      <th>1</th>\n",
              "      <td>Albania</td>\n",
              "      <td>3075</td>\n",
              "    </tr>\n",
              "    <tr>\n",
              "      <th>2</th>\n",
              "      <td>Armenia</td>\n",
              "      <td>13952</td>\n",
              "    </tr>\n",
              "    <tr>\n",
              "      <th>3</th>\n",
              "      <td>Azerbaijan</td>\n",
              "      <td>10172</td>\n",
              "    </tr>\n",
              "    <tr>\n",
              "      <th>4</th>\n",
              "      <td>Belize</td>\n",
              "      <td>218</td>\n",
              "    </tr>\n",
              "  </tbody>\n",
              "</table>\n",
              "</div>"
            ],
            "text/plain": [
              "  country_name  loans_count\n",
              "0  Afghanistan         2337\n",
              "1      Albania         3075\n",
              "2      Armenia        13952\n",
              "3   Azerbaijan        10172\n",
              "4       Belize          218"
            ]
          },
          "metadata": {
            "tags": []
          },
          "execution_count": 8
        }
      ]
    },
    {
      "cell_type": "markdown",
      "metadata": {
        "id": "796ZouJi3gZb",
        "colab_type": "text"
      },
      "source": [
        "5) For each country, compute the overall amount of money borrowed"
      ]
    },
    {
      "cell_type": "code",
      "metadata": {
        "id": "wvhqGn7T-Uup",
        "colab_type": "code",
        "colab": {
          "base_uri": "https://localhost:8080/",
          "height": 204
        },
        "outputId": "053ec154-d0e8-4097-ffe2-e15e8189bff4"
      },
      "source": [
        "loan_amount_sum_by_country=loans.groupby('country_name')['loan_amount'].sum().reset_index(name='loan_amount_sum')\n",
        "loan_amount_sum_by_country.head()"
      ],
      "execution_count": 9,
      "outputs": [
        {
          "output_type": "execute_result",
          "data": {
            "text/html": [
              "<div>\n",
              "<style scoped>\n",
              "    .dataframe tbody tr th:only-of-type {\n",
              "        vertical-align: middle;\n",
              "    }\n",
              "\n",
              "    .dataframe tbody tr th {\n",
              "        vertical-align: top;\n",
              "    }\n",
              "\n",
              "    .dataframe thead th {\n",
              "        text-align: right;\n",
              "    }\n",
              "</style>\n",
              "<table border=\"1\" class=\"dataframe\">\n",
              "  <thead>\n",
              "    <tr style=\"text-align: right;\">\n",
              "      <th></th>\n",
              "      <th>country_name</th>\n",
              "      <th>loan_amount_sum</th>\n",
              "    </tr>\n",
              "  </thead>\n",
              "  <tbody>\n",
              "    <tr>\n",
              "      <th>0</th>\n",
              "      <td>Afghanistan</td>\n",
              "      <td>1967950.0</td>\n",
              "    </tr>\n",
              "    <tr>\n",
              "      <th>1</th>\n",
              "      <td>Albania</td>\n",
              "      <td>4307350.0</td>\n",
              "    </tr>\n",
              "    <tr>\n",
              "      <th>2</th>\n",
              "      <td>Armenia</td>\n",
              "      <td>22950475.0</td>\n",
              "    </tr>\n",
              "    <tr>\n",
              "      <th>3</th>\n",
              "      <td>Azerbaijan</td>\n",
              "      <td>14784625.0</td>\n",
              "    </tr>\n",
              "    <tr>\n",
              "      <th>4</th>\n",
              "      <td>Belize</td>\n",
              "      <td>150175.0</td>\n",
              "    </tr>\n",
              "  </tbody>\n",
              "</table>\n",
              "</div>"
            ],
            "text/plain": [
              "  country_name  loan_amount_sum\n",
              "0  Afghanistan        1967950.0\n",
              "1      Albania        4307350.0\n",
              "2      Armenia       22950475.0\n",
              "3   Azerbaijan       14784625.0\n",
              "4       Belize         150175.0"
            ]
          },
          "metadata": {
            "tags": []
          },
          "execution_count": 9
        }
      ]
    },
    {
      "cell_type": "markdown",
      "metadata": {
        "id": "15YCVTjk3bA0",
        "colab_type": "text"
      },
      "source": [
        "6) Like the previous point, but expressed as a percentage of the overall amount lent."
      ]
    },
    {
      "cell_type": "code",
      "metadata": {
        "id": "6DlvMslc-pQE",
        "colab_type": "code",
        "colab": {
          "base_uri": "https://localhost:8080/",
          "height": 204
        },
        "outputId": "7afcdef5-1612-4d9f-e527-30fac00c8715"
      },
      "source": [
        "loan_amount_sum_by_country_percentual=(loans.groupby('country_name')['loan_amount'].sum()/loans['funded_amount'].sum()*100).reset_index(name = 'loan_amount_%_over_total')\n",
        "loan_amount_sum_by_country_percentual.head()"
      ],
      "execution_count": 10,
      "outputs": [
        {
          "output_type": "execute_result",
          "data": {
            "text/html": [
              "<div>\n",
              "<style scoped>\n",
              "    .dataframe tbody tr th:only-of-type {\n",
              "        vertical-align: middle;\n",
              "    }\n",
              "\n",
              "    .dataframe tbody tr th {\n",
              "        vertical-align: top;\n",
              "    }\n",
              "\n",
              "    .dataframe thead th {\n",
              "        text-align: right;\n",
              "    }\n",
              "</style>\n",
              "<table border=\"1\" class=\"dataframe\">\n",
              "  <thead>\n",
              "    <tr style=\"text-align: right;\">\n",
              "      <th></th>\n",
              "      <th>country_name</th>\n",
              "      <th>loan_amount_%_over_total</th>\n",
              "    </tr>\n",
              "  </thead>\n",
              "  <tbody>\n",
              "    <tr>\n",
              "      <th>0</th>\n",
              "      <td>Afghanistan</td>\n",
              "      <td>0.174126</td>\n",
              "    </tr>\n",
              "    <tr>\n",
              "      <th>1</th>\n",
              "      <td>Albania</td>\n",
              "      <td>0.381119</td>\n",
              "    </tr>\n",
              "    <tr>\n",
              "      <th>2</th>\n",
              "      <td>Armenia</td>\n",
              "      <td>2.030683</td>\n",
              "    </tr>\n",
              "    <tr>\n",
              "      <th>3</th>\n",
              "      <td>Azerbaijan</td>\n",
              "      <td>1.308160</td>\n",
              "    </tr>\n",
              "    <tr>\n",
              "      <th>4</th>\n",
              "      <td>Belize</td>\n",
              "      <td>0.013288</td>\n",
              "    </tr>\n",
              "  </tbody>\n",
              "</table>\n",
              "</div>"
            ],
            "text/plain": [
              "  country_name  loan_amount_%_over_total\n",
              "0  Afghanistan                  0.174126\n",
              "1      Albania                  0.381119\n",
              "2      Armenia                  2.030683\n",
              "3   Azerbaijan                  1.308160\n",
              "4       Belize                  0.013288"
            ]
          },
          "metadata": {
            "tags": []
          },
          "execution_count": 10
        }
      ]
    },
    {
      "cell_type": "markdown",
      "metadata": {
        "id": "QcMg53NR3YAz",
        "colab_type": "text"
      },
      "source": [
        "7) Like the three previous points, but split for each year (with respect to disburse time)"
      ]
    },
    {
      "cell_type": "code",
      "metadata": {
        "id": "hPoakxkh9Ca0",
        "colab_type": "code",
        "colab": {}
      },
      "source": [
        "# Create a new column corresponding to the year of disburse_time\n",
        "loans['disburse_time_year']=pd.to_datetime(loans['disburse_time']).dt.year"
      ],
      "execution_count": 11,
      "outputs": []
    },
    {
      "cell_type": "code",
      "metadata": {
        "id": "EIvl767X9X2W",
        "colab_type": "code",
        "colab": {
          "base_uri": "https://localhost:8080/",
          "height": 419
        },
        "outputId": "d5f28d4a-d245-4d0e-a02a-bfd33d090b08"
      },
      "source": [
        "ES_4_for_each_year=loans.groupby(['country_name','disburse_time_year'])['loan_id'].count().reset_index(name='loan_count')\n",
        "ES_4_for_each_year"
      ],
      "execution_count": 12,
      "outputs": [
        {
          "output_type": "execute_result",
          "data": {
            "text/html": [
              "<div>\n",
              "<style scoped>\n",
              "    .dataframe tbody tr th:only-of-type {\n",
              "        vertical-align: middle;\n",
              "    }\n",
              "\n",
              "    .dataframe tbody tr th {\n",
              "        vertical-align: top;\n",
              "    }\n",
              "\n",
              "    .dataframe thead th {\n",
              "        text-align: right;\n",
              "    }\n",
              "</style>\n",
              "<table border=\"1\" class=\"dataframe\">\n",
              "  <thead>\n",
              "    <tr style=\"text-align: right;\">\n",
              "      <th></th>\n",
              "      <th>country_name</th>\n",
              "      <th>disburse_time_year</th>\n",
              "      <th>loan_count</th>\n",
              "    </tr>\n",
              "  </thead>\n",
              "  <tbody>\n",
              "    <tr>\n",
              "      <th>0</th>\n",
              "      <td>Afghanistan</td>\n",
              "      <td>2007.0</td>\n",
              "      <td>408</td>\n",
              "    </tr>\n",
              "    <tr>\n",
              "      <th>1</th>\n",
              "      <td>Afghanistan</td>\n",
              "      <td>2008.0</td>\n",
              "      <td>370</td>\n",
              "    </tr>\n",
              "    <tr>\n",
              "      <th>2</th>\n",
              "      <td>Afghanistan</td>\n",
              "      <td>2009.0</td>\n",
              "      <td>678</td>\n",
              "    </tr>\n",
              "    <tr>\n",
              "      <th>3</th>\n",
              "      <td>Afghanistan</td>\n",
              "      <td>2010.0</td>\n",
              "      <td>632</td>\n",
              "    </tr>\n",
              "    <tr>\n",
              "      <th>4</th>\n",
              "      <td>Afghanistan</td>\n",
              "      <td>2011.0</td>\n",
              "      <td>247</td>\n",
              "    </tr>\n",
              "    <tr>\n",
              "      <th>...</th>\n",
              "      <td>...</td>\n",
              "      <td>...</td>\n",
              "      <td>...</td>\n",
              "    </tr>\n",
              "    <tr>\n",
              "      <th>743</th>\n",
              "      <td>Zimbabwe</td>\n",
              "      <td>2013.0</td>\n",
              "      <td>426</td>\n",
              "    </tr>\n",
              "    <tr>\n",
              "      <th>744</th>\n",
              "      <td>Zimbabwe</td>\n",
              "      <td>2014.0</td>\n",
              "      <td>2078</td>\n",
              "    </tr>\n",
              "    <tr>\n",
              "      <th>745</th>\n",
              "      <td>Zimbabwe</td>\n",
              "      <td>2015.0</td>\n",
              "      <td>600</td>\n",
              "    </tr>\n",
              "    <tr>\n",
              "      <th>746</th>\n",
              "      <td>Zimbabwe</td>\n",
              "      <td>2016.0</td>\n",
              "      <td>808</td>\n",
              "    </tr>\n",
              "    <tr>\n",
              "      <th>747</th>\n",
              "      <td>Zimbabwe</td>\n",
              "      <td>2017.0</td>\n",
              "      <td>1079</td>\n",
              "    </tr>\n",
              "  </tbody>\n",
              "</table>\n",
              "<p>748 rows × 3 columns</p>\n",
              "</div>"
            ],
            "text/plain": [
              "    country_name  disburse_time_year  loan_count\n",
              "0    Afghanistan              2007.0         408\n",
              "1    Afghanistan              2008.0         370\n",
              "2    Afghanistan              2009.0         678\n",
              "3    Afghanistan              2010.0         632\n",
              "4    Afghanistan              2011.0         247\n",
              "..           ...                 ...         ...\n",
              "743     Zimbabwe              2013.0         426\n",
              "744     Zimbabwe              2014.0        2078\n",
              "745     Zimbabwe              2015.0         600\n",
              "746     Zimbabwe              2016.0         808\n",
              "747     Zimbabwe              2017.0        1079\n",
              "\n",
              "[748 rows x 3 columns]"
            ]
          },
          "metadata": {
            "tags": []
          },
          "execution_count": 12
        }
      ]
    },
    {
      "cell_type": "code",
      "metadata": {
        "id": "pE9JmyivD53k",
        "colab_type": "code",
        "colab": {
          "base_uri": "https://localhost:8080/",
          "height": 419
        },
        "outputId": "d6a6f7ad-b807-406c-d055-abf7d169ec87"
      },
      "source": [
        "ES_5_for_each_year=loans.groupby(['country_name','disburse_time_year'])['loan_amount'].sum().reset_index(name='loan_amount_sum')\n",
        "ES_5_for_each_year"
      ],
      "execution_count": 13,
      "outputs": [
        {
          "output_type": "execute_result",
          "data": {
            "text/html": [
              "<div>\n",
              "<style scoped>\n",
              "    .dataframe tbody tr th:only-of-type {\n",
              "        vertical-align: middle;\n",
              "    }\n",
              "\n",
              "    .dataframe tbody tr th {\n",
              "        vertical-align: top;\n",
              "    }\n",
              "\n",
              "    .dataframe thead th {\n",
              "        text-align: right;\n",
              "    }\n",
              "</style>\n",
              "<table border=\"1\" class=\"dataframe\">\n",
              "  <thead>\n",
              "    <tr style=\"text-align: right;\">\n",
              "      <th></th>\n",
              "      <th>country_name</th>\n",
              "      <th>disburse_time_year</th>\n",
              "      <th>loan_amount_sum</th>\n",
              "    </tr>\n",
              "  </thead>\n",
              "  <tbody>\n",
              "    <tr>\n",
              "      <th>0</th>\n",
              "      <td>Afghanistan</td>\n",
              "      <td>2007.0</td>\n",
              "      <td>194975.0</td>\n",
              "    </tr>\n",
              "    <tr>\n",
              "      <th>1</th>\n",
              "      <td>Afghanistan</td>\n",
              "      <td>2008.0</td>\n",
              "      <td>365375.0</td>\n",
              "    </tr>\n",
              "    <tr>\n",
              "      <th>2</th>\n",
              "      <td>Afghanistan</td>\n",
              "      <td>2009.0</td>\n",
              "      <td>585125.0</td>\n",
              "    </tr>\n",
              "    <tr>\n",
              "      <th>3</th>\n",
              "      <td>Afghanistan</td>\n",
              "      <td>2010.0</td>\n",
              "      <td>563350.0</td>\n",
              "    </tr>\n",
              "    <tr>\n",
              "      <th>4</th>\n",
              "      <td>Afghanistan</td>\n",
              "      <td>2011.0</td>\n",
              "      <td>245125.0</td>\n",
              "    </tr>\n",
              "    <tr>\n",
              "      <th>...</th>\n",
              "      <td>...</td>\n",
              "      <td>...</td>\n",
              "      <td>...</td>\n",
              "    </tr>\n",
              "    <tr>\n",
              "      <th>743</th>\n",
              "      <td>Zimbabwe</td>\n",
              "      <td>2013.0</td>\n",
              "      <td>678525.0</td>\n",
              "    </tr>\n",
              "    <tr>\n",
              "      <th>744</th>\n",
              "      <td>Zimbabwe</td>\n",
              "      <td>2014.0</td>\n",
              "      <td>1311575.0</td>\n",
              "    </tr>\n",
              "    <tr>\n",
              "      <th>745</th>\n",
              "      <td>Zimbabwe</td>\n",
              "      <td>2015.0</td>\n",
              "      <td>723625.0</td>\n",
              "    </tr>\n",
              "    <tr>\n",
              "      <th>746</th>\n",
              "      <td>Zimbabwe</td>\n",
              "      <td>2016.0</td>\n",
              "      <td>788600.0</td>\n",
              "    </tr>\n",
              "    <tr>\n",
              "      <th>747</th>\n",
              "      <td>Zimbabwe</td>\n",
              "      <td>2017.0</td>\n",
              "      <td>1237600.0</td>\n",
              "    </tr>\n",
              "  </tbody>\n",
              "</table>\n",
              "<p>748 rows × 3 columns</p>\n",
              "</div>"
            ],
            "text/plain": [
              "    country_name  disburse_time_year  loan_amount_sum\n",
              "0    Afghanistan              2007.0         194975.0\n",
              "1    Afghanistan              2008.0         365375.0\n",
              "2    Afghanistan              2009.0         585125.0\n",
              "3    Afghanistan              2010.0         563350.0\n",
              "4    Afghanistan              2011.0         245125.0\n",
              "..           ...                 ...              ...\n",
              "743     Zimbabwe              2013.0         678525.0\n",
              "744     Zimbabwe              2014.0        1311575.0\n",
              "745     Zimbabwe              2015.0         723625.0\n",
              "746     Zimbabwe              2016.0         788600.0\n",
              "747     Zimbabwe              2017.0        1237600.0\n",
              "\n",
              "[748 rows x 3 columns]"
            ]
          },
          "metadata": {
            "tags": []
          },
          "execution_count": 13
        }
      ]
    },
    {
      "cell_type": "code",
      "metadata": {
        "id": "7Ikd0HE1EPHT",
        "colab_type": "code",
        "colab": {
          "base_uri": "https://localhost:8080/",
          "height": 419
        },
        "outputId": "4eb4bed8-87e4-441b-8035-557f48c89115"
      },
      "source": [
        "ES_6_for_each_year=(loans.groupby(['country_name','disburse_time_year'])['loan_amount'].sum()/loans['funded_amount'].sum()*100).reset_index(name='loan_amount_%_over_total')\n",
        "ES_6_for_each_year"
      ],
      "execution_count": 14,
      "outputs": [
        {
          "output_type": "execute_result",
          "data": {
            "text/html": [
              "<div>\n",
              "<style scoped>\n",
              "    .dataframe tbody tr th:only-of-type {\n",
              "        vertical-align: middle;\n",
              "    }\n",
              "\n",
              "    .dataframe tbody tr th {\n",
              "        vertical-align: top;\n",
              "    }\n",
              "\n",
              "    .dataframe thead th {\n",
              "        text-align: right;\n",
              "    }\n",
              "</style>\n",
              "<table border=\"1\" class=\"dataframe\">\n",
              "  <thead>\n",
              "    <tr style=\"text-align: right;\">\n",
              "      <th></th>\n",
              "      <th>country_name</th>\n",
              "      <th>disburse_time_year</th>\n",
              "      <th>loan_amount_%_over_total</th>\n",
              "    </tr>\n",
              "  </thead>\n",
              "  <tbody>\n",
              "    <tr>\n",
              "      <th>0</th>\n",
              "      <td>Afghanistan</td>\n",
              "      <td>2007.0</td>\n",
              "      <td>0.017252</td>\n",
              "    </tr>\n",
              "    <tr>\n",
              "      <th>1</th>\n",
              "      <td>Afghanistan</td>\n",
              "      <td>2008.0</td>\n",
              "      <td>0.032329</td>\n",
              "    </tr>\n",
              "    <tr>\n",
              "      <th>2</th>\n",
              "      <td>Afghanistan</td>\n",
              "      <td>2009.0</td>\n",
              "      <td>0.051772</td>\n",
              "    </tr>\n",
              "    <tr>\n",
              "      <th>3</th>\n",
              "      <td>Afghanistan</td>\n",
              "      <td>2010.0</td>\n",
              "      <td>0.049846</td>\n",
              "    </tr>\n",
              "    <tr>\n",
              "      <th>4</th>\n",
              "      <td>Afghanistan</td>\n",
              "      <td>2011.0</td>\n",
              "      <td>0.021689</td>\n",
              "    </tr>\n",
              "    <tr>\n",
              "      <th>...</th>\n",
              "      <td>...</td>\n",
              "      <td>...</td>\n",
              "      <td>...</td>\n",
              "    </tr>\n",
              "    <tr>\n",
              "      <th>743</th>\n",
              "      <td>Zimbabwe</td>\n",
              "      <td>2013.0</td>\n",
              "      <td>0.060037</td>\n",
              "    </tr>\n",
              "    <tr>\n",
              "      <th>744</th>\n",
              "      <td>Zimbabwe</td>\n",
              "      <td>2014.0</td>\n",
              "      <td>0.116050</td>\n",
              "    </tr>\n",
              "    <tr>\n",
              "      <th>745</th>\n",
              "      <td>Zimbabwe</td>\n",
              "      <td>2015.0</td>\n",
              "      <td>0.064027</td>\n",
              "    </tr>\n",
              "    <tr>\n",
              "      <th>746</th>\n",
              "      <td>Zimbabwe</td>\n",
              "      <td>2016.0</td>\n",
              "      <td>0.069776</td>\n",
              "    </tr>\n",
              "    <tr>\n",
              "      <th>747</th>\n",
              "      <td>Zimbabwe</td>\n",
              "      <td>2017.0</td>\n",
              "      <td>0.109504</td>\n",
              "    </tr>\n",
              "  </tbody>\n",
              "</table>\n",
              "<p>748 rows × 3 columns</p>\n",
              "</div>"
            ],
            "text/plain": [
              "    country_name  disburse_time_year  loan_amount_%_over_total\n",
              "0    Afghanistan              2007.0                  0.017252\n",
              "1    Afghanistan              2008.0                  0.032329\n",
              "2    Afghanistan              2009.0                  0.051772\n",
              "3    Afghanistan              2010.0                  0.049846\n",
              "4    Afghanistan              2011.0                  0.021689\n",
              "..           ...                 ...                       ...\n",
              "743     Zimbabwe              2013.0                  0.060037\n",
              "744     Zimbabwe              2014.0                  0.116050\n",
              "745     Zimbabwe              2015.0                  0.064027\n",
              "746     Zimbabwe              2016.0                  0.069776\n",
              "747     Zimbabwe              2017.0                  0.109504\n",
              "\n",
              "[748 rows x 3 columns]"
            ]
          },
          "metadata": {
            "tags": []
          },
          "execution_count": 14
        }
      ]
    },
    {
      "cell_type": "markdown",
      "metadata": {
        "id": "eim_Grx83Uv8",
        "colab_type": "text"
      },
      "source": [
        "8) For each lender, compute the overall amount of money lent. For each loan that has more than one lender, you must assume that all lenders contributed the same amount"
      ]
    },
    {
      "cell_type": "code",
      "metadata": {
        "id": "cqDTj6vuOqWG",
        "colab_type": "code",
        "colab": {
          "base_uri": "https://localhost:8080/",
          "height": 419
        },
        "outputId": "492f945d-c55c-4717-b8dc-ed8ac5baea26"
      },
      "source": [
        "# For each loan, new columns have been created corresponding to the funded amount and loan amount by each lenders present in the aforementioned loan\n",
        "loans['funded_amount_x_lenders']=loans['funded_amount']/loans['num_lenders_total']\n",
        "loans['loan_amount_x_lenders']=loans['loan_amount']/loans['num_lenders_total']\n",
        "# Merge between dataset (loans) and dataset (loand lenders splitted) \n",
        "merge=loans[['loan_id','funded_amount_x_lenders','loan_amount_x_lenders']].merge(loans_lenders_splitted)\n",
        "# Compute the overall amount of money lent and the overall amount of money borrowed for each lender\n",
        "merge=pd.DataFrame(merge.groupby('lenders')[['funded_amount_x_lenders','loan_amount_x_lenders']].sum())\n",
        "merge.reset_index(inplace=True)\n",
        "# Show the overall amount of monney lent for each lender\n",
        "merge[['lenders','funded_amount_x_lenders']]"
      ],
      "execution_count": 15,
      "outputs": [
        {
          "output_type": "execute_result",
          "data": {
            "text/html": [
              "<div>\n",
              "<style scoped>\n",
              "    .dataframe tbody tr th:only-of-type {\n",
              "        vertical-align: middle;\n",
              "    }\n",
              "\n",
              "    .dataframe tbody tr th {\n",
              "        vertical-align: top;\n",
              "    }\n",
              "\n",
              "    .dataframe thead th {\n",
              "        text-align: right;\n",
              "    }\n",
              "</style>\n",
              "<table border=\"1\" class=\"dataframe\">\n",
              "  <thead>\n",
              "    <tr style=\"text-align: right;\">\n",
              "      <th></th>\n",
              "      <th>lenders</th>\n",
              "      <th>funded_amount_x_lenders</th>\n",
              "    </tr>\n",
              "  </thead>\n",
              "  <tbody>\n",
              "    <tr>\n",
              "      <th>0</th>\n",
              "      <td>000</td>\n",
              "      <td>1512.095370</td>\n",
              "    </tr>\n",
              "    <tr>\n",
              "      <th>1</th>\n",
              "      <td>00000</td>\n",
              "      <td>1249.127691</td>\n",
              "    </tr>\n",
              "    <tr>\n",
              "      <th>2</th>\n",
              "      <td>0002</td>\n",
              "      <td>2201.180463</td>\n",
              "    </tr>\n",
              "    <tr>\n",
              "      <th>3</th>\n",
              "      <td>00mike00</td>\n",
              "      <td>38.461538</td>\n",
              "    </tr>\n",
              "    <tr>\n",
              "      <th>4</th>\n",
              "      <td>0101craign0101</td>\n",
              "      <td>2424.088932</td>\n",
              "    </tr>\n",
              "    <tr>\n",
              "      <th>...</th>\n",
              "      <td>...</td>\n",
              "      <td>...</td>\n",
              "    </tr>\n",
              "    <tr>\n",
              "      <th>1383794</th>\n",
              "      <td>zzmcfate</td>\n",
              "      <td>57535.947017</td>\n",
              "    </tr>\n",
              "    <tr>\n",
              "      <th>1383795</th>\n",
              "      <td>zzpaghetti9994</td>\n",
              "      <td>44.247788</td>\n",
              "    </tr>\n",
              "    <tr>\n",
              "      <th>1383796</th>\n",
              "      <td>zzrvmf8538</td>\n",
              "      <td>480.818179</td>\n",
              "    </tr>\n",
              "    <tr>\n",
              "      <th>1383797</th>\n",
              "      <td>zzzsai</td>\n",
              "      <td>236.888048</td>\n",
              "    </tr>\n",
              "    <tr>\n",
              "      <th>1383798</th>\n",
              "      <td>zzzworld</td>\n",
              "      <td>26.315789</td>\n",
              "    </tr>\n",
              "  </tbody>\n",
              "</table>\n",
              "<p>1383799 rows × 2 columns</p>\n",
              "</div>"
            ],
            "text/plain": [
              "                lenders  funded_amount_x_lenders\n",
              "0                   000              1512.095370\n",
              "1                 00000              1249.127691\n",
              "2                  0002              2201.180463\n",
              "3              00mike00                38.461538\n",
              "4        0101craign0101              2424.088932\n",
              "...                 ...                      ...\n",
              "1383794        zzmcfate             57535.947017\n",
              "1383795  zzpaghetti9994                44.247788\n",
              "1383796      zzrvmf8538               480.818179\n",
              "1383797          zzzsai               236.888048\n",
              "1383798        zzzworld                26.315789\n",
              "\n",
              "[1383799 rows x 2 columns]"
            ]
          },
          "metadata": {
            "tags": []
          },
          "execution_count": 15
        }
      ]
    },
    {
      "cell_type": "code",
      "metadata": {
        "id": "Q0q67Ncan1SL",
        "colab_type": "code",
        "colab": {
          "base_uri": "https://localhost:8080/",
          "height": 49
        },
        "outputId": "e4545730-0d16-43dd-aac8-8a83e60b7ff8"
      },
      "source": [
        "loans[['loan_id','funded_amount_x_lenders','loan_amount_x_lenders']][loans['num_lenders_total']==0].merge(loans_lenders_splitted)"
      ],
      "execution_count": 16,
      "outputs": [
        {
          "output_type": "execute_result",
          "data": {
            "text/html": [
              "<div>\n",
              "<style scoped>\n",
              "    .dataframe tbody tr th:only-of-type {\n",
              "        vertical-align: middle;\n",
              "    }\n",
              "\n",
              "    .dataframe tbody tr th {\n",
              "        vertical-align: top;\n",
              "    }\n",
              "\n",
              "    .dataframe thead th {\n",
              "        text-align: right;\n",
              "    }\n",
              "</style>\n",
              "<table border=\"1\" class=\"dataframe\">\n",
              "  <thead>\n",
              "    <tr style=\"text-align: right;\">\n",
              "      <th></th>\n",
              "      <th>loan_id</th>\n",
              "      <th>funded_amount_x_lenders</th>\n",
              "      <th>loan_amount_x_lenders</th>\n",
              "      <th>lenders</th>\n",
              "    </tr>\n",
              "  </thead>\n",
              "  <tbody>\n",
              "  </tbody>\n",
              "</table>\n",
              "</div>"
            ],
            "text/plain": [
              "Empty DataFrame\n",
              "Columns: [loan_id, funded_amount_x_lenders, loan_amount_x_lenders, lenders]\n",
              "Index: []"
            ]
          },
          "metadata": {
            "tags": []
          },
          "execution_count": 16
        }
      ]
    },
    {
      "cell_type": "markdown",
      "metadata": {
        "id": "z0-Z-afe3Rla",
        "colab_type": "text"
      },
      "source": [
        "9) For each country, compute the difference between the overall amount of money lent and the overall amount of money borrowed. Since the country of the lender is often unknown, you can assume that the true distribution among the countries is the same as the one computed from the rows where the country is known."
      ]
    },
    {
      "cell_type": "code",
      "metadata": {
        "id": "PV5XZD-aimOd",
        "colab_type": "code",
        "colab": {
          "base_uri": "https://localhost:8080/",
          "height": 204
        },
        "outputId": "cc5f02a5-7bb4-48dc-8791-4d626903e250"
      },
      "source": [
        "# Read lenders file\n",
        "lenders = pd.read_csv(\"/content/drive/My Drive/python/kiva/lenders.csv\")\n",
        "# Drop rows with Nan values in 'country code' and 'permanent name' columns and rename the column permanent name\n",
        "lenders.dropna(subset=['country_code'],inplace=True)\n",
        "lenders.dropna(subset=['permanent_name'],inplace=True)\n",
        "lenders.rename(columns={'permanent_name':'lenders'},inplace=True)\n",
        "lenders.head()"
      ],
      "execution_count": 17,
      "outputs": [
        {
          "output_type": "execute_result",
          "data": {
            "text/html": [
              "<div>\n",
              "<style scoped>\n",
              "    .dataframe tbody tr th:only-of-type {\n",
              "        vertical-align: middle;\n",
              "    }\n",
              "\n",
              "    .dataframe tbody tr th {\n",
              "        vertical-align: top;\n",
              "    }\n",
              "\n",
              "    .dataframe thead th {\n",
              "        text-align: right;\n",
              "    }\n",
              "</style>\n",
              "<table border=\"1\" class=\"dataframe\">\n",
              "  <thead>\n",
              "    <tr style=\"text-align: right;\">\n",
              "      <th></th>\n",
              "      <th>lenders</th>\n",
              "      <th>display_name</th>\n",
              "      <th>city</th>\n",
              "      <th>state</th>\n",
              "      <th>country_code</th>\n",
              "      <th>member_since</th>\n",
              "      <th>occupation</th>\n",
              "      <th>loan_because</th>\n",
              "      <th>loan_purchase_num</th>\n",
              "      <th>invited_by</th>\n",
              "      <th>num_invited</th>\n",
              "    </tr>\n",
              "  </thead>\n",
              "  <tbody>\n",
              "    <tr>\n",
              "      <th>16</th>\n",
              "      <td>naresh2074</td>\n",
              "      <td>Naresh</td>\n",
              "      <td>NaN</td>\n",
              "      <td>NaN</td>\n",
              "      <td>US</td>\n",
              "      <td>1461303119</td>\n",
              "      <td>NaN</td>\n",
              "      <td>NaN</td>\n",
              "      <td>3.0</td>\n",
              "      <td>NaN</td>\n",
              "      <td>0</td>\n",
              "    </tr>\n",
              "    <tr>\n",
              "      <th>31</th>\n",
              "      <td>christina27976796</td>\n",
              "      <td>Christina</td>\n",
              "      <td>NaN</td>\n",
              "      <td>NaN</td>\n",
              "      <td>US</td>\n",
              "      <td>1461303341</td>\n",
              "      <td>NaN</td>\n",
              "      <td>NaN</td>\n",
              "      <td>1.0</td>\n",
              "      <td>Peter Tan</td>\n",
              "      <td>0</td>\n",
              "    </tr>\n",
              "    <tr>\n",
              "      <th>37</th>\n",
              "      <td>vikas1098</td>\n",
              "      <td>Vikas</td>\n",
              "      <td>Bengaluru</td>\n",
              "      <td>NaN</td>\n",
              "      <td>IN</td>\n",
              "      <td>1461301846</td>\n",
              "      <td>Software Engineer</td>\n",
              "      <td>NaN</td>\n",
              "      <td>2.0</td>\n",
              "      <td>NaN</td>\n",
              "      <td>0</td>\n",
              "    </tr>\n",
              "    <tr>\n",
              "      <th>39</th>\n",
              "      <td>qian1385</td>\n",
              "      <td>Qian</td>\n",
              "      <td>NaN</td>\n",
              "      <td>NaN</td>\n",
              "      <td>US</td>\n",
              "      <td>1461302036</td>\n",
              "      <td>NaN</td>\n",
              "      <td>NaN</td>\n",
              "      <td>2.0</td>\n",
              "      <td>NaN</td>\n",
              "      <td>0</td>\n",
              "    </tr>\n",
              "    <tr>\n",
              "      <th>42</th>\n",
              "      <td>xigg8769</td>\n",
              "      <td>Darla</td>\n",
              "      <td>Madison</td>\n",
              "      <td>NaN</td>\n",
              "      <td>US</td>\n",
              "      <td>1461302503</td>\n",
              "      <td>NaN</td>\n",
              "      <td>NaN</td>\n",
              "      <td>NaN</td>\n",
              "      <td>NaN</td>\n",
              "      <td>0</td>\n",
              "    </tr>\n",
              "  </tbody>\n",
              "</table>\n",
              "</div>"
            ],
            "text/plain": [
              "              lenders display_name  ... invited_by num_invited\n",
              "16         naresh2074       Naresh  ...        NaN           0\n",
              "31  christina27976796    Christina  ...  Peter Tan           0\n",
              "37          vikas1098        Vikas  ...        NaN           0\n",
              "39           qian1385         Qian  ...        NaN           0\n",
              "42           xigg8769        Darla  ...        NaN           0\n",
              "\n",
              "[5 rows x 11 columns]"
            ]
          },
          "metadata": {
            "tags": []
          },
          "execution_count": 17
        }
      ]
    },
    {
      "cell_type": "code",
      "metadata": {
        "id": "DNOgOFAujdQV",
        "colab_type": "code",
        "colab": {
          "base_uri": "https://localhost:8080/",
          "height": 419
        },
        "outputId": "4c8f70b8-90f0-4786-a657-7c2861d327d8"
      },
      "source": [
        "# Merge between dataset (lenders dropped) and the dataset created at the previous point \n",
        "df=merge.merge(lenders[['lenders','country_code']])\n",
        "# Compute the difference between loan_amount_x_lenders and funded_amount_x_lenders for each country\n",
        "diff_country=(df.groupby('country_code')['loan_amount_x_lenders'].sum()-df.groupby('country_code')['funded_amount_x_lenders'].sum()).reset_index(name='diff_between_fundedamount_and_loanamount')\n",
        "diff_country"
      ],
      "execution_count": 18,
      "outputs": [
        {
          "output_type": "execute_result",
          "data": {
            "text/html": [
              "<div>\n",
              "<style scoped>\n",
              "    .dataframe tbody tr th:only-of-type {\n",
              "        vertical-align: middle;\n",
              "    }\n",
              "\n",
              "    .dataframe tbody tr th {\n",
              "        vertical-align: top;\n",
              "    }\n",
              "\n",
              "    .dataframe thead th {\n",
              "        text-align: right;\n",
              "    }\n",
              "</style>\n",
              "<table border=\"1\" class=\"dataframe\">\n",
              "  <thead>\n",
              "    <tr style=\"text-align: right;\">\n",
              "      <th></th>\n",
              "      <th>country_code</th>\n",
              "      <th>diff_between_fundedamount_and_loanamount</th>\n",
              "    </tr>\n",
              "  </thead>\n",
              "  <tbody>\n",
              "    <tr>\n",
              "      <th>0</th>\n",
              "      <td>AD</td>\n",
              "      <td>62.087704</td>\n",
              "    </tr>\n",
              "    <tr>\n",
              "      <th>1</th>\n",
              "      <td>AE</td>\n",
              "      <td>43485.581793</td>\n",
              "    </tr>\n",
              "    <tr>\n",
              "      <th>2</th>\n",
              "      <td>AF</td>\n",
              "      <td>3623.762951</td>\n",
              "    </tr>\n",
              "    <tr>\n",
              "      <th>3</th>\n",
              "      <td>AG</td>\n",
              "      <td>0.000000</td>\n",
              "    </tr>\n",
              "    <tr>\n",
              "      <th>4</th>\n",
              "      <td>AI</td>\n",
              "      <td>0.000000</td>\n",
              "    </tr>\n",
              "    <tr>\n",
              "      <th>...</th>\n",
              "      <td>...</td>\n",
              "      <td>...</td>\n",
              "    </tr>\n",
              "    <tr>\n",
              "      <th>220</th>\n",
              "      <td>YE</td>\n",
              "      <td>42.500000</td>\n",
              "    </tr>\n",
              "    <tr>\n",
              "      <th>221</th>\n",
              "      <td>YT</td>\n",
              "      <td>0.000000</td>\n",
              "    </tr>\n",
              "    <tr>\n",
              "      <th>222</th>\n",
              "      <td>ZA</td>\n",
              "      <td>9289.940114</td>\n",
              "    </tr>\n",
              "    <tr>\n",
              "      <th>223</th>\n",
              "      <td>ZM</td>\n",
              "      <td>2616.493185</td>\n",
              "    </tr>\n",
              "    <tr>\n",
              "      <th>224</th>\n",
              "      <td>ZW</td>\n",
              "      <td>96.576486</td>\n",
              "    </tr>\n",
              "  </tbody>\n",
              "</table>\n",
              "<p>225 rows × 2 columns</p>\n",
              "</div>"
            ],
            "text/plain": [
              "    country_code  diff_between_fundedamount_and_loanamount\n",
              "0             AD                                 62.087704\n",
              "1             AE                              43485.581793\n",
              "2             AF                               3623.762951\n",
              "3             AG                                  0.000000\n",
              "4             AI                                  0.000000\n",
              "..           ...                                       ...\n",
              "220           YE                                 42.500000\n",
              "221           YT                                  0.000000\n",
              "222           ZA                               9289.940114\n",
              "223           ZM                               2616.493185\n",
              "224           ZW                                 96.576486\n",
              "\n",
              "[225 rows x 2 columns]"
            ]
          },
          "metadata": {
            "tags": []
          },
          "execution_count": 18
        }
      ]
    },
    {
      "cell_type": "markdown",
      "metadata": {
        "id": "UQLaDbKb3OSF",
        "colab_type": "text"
      },
      "source": [
        "10) Which country has the highest ratio between the difference computed at the previous point and the population?"
      ]
    },
    {
      "cell_type": "code",
      "metadata": {
        "id": "4O6cOE9EfP5r",
        "colab_type": "code",
        "colab": {
          "base_uri": "https://localhost:8080/",
          "height": 80
        },
        "outputId": "6329158f-d549-47a9-9c44-034dd372f85b"
      },
      "source": [
        "# Read file country stats\n",
        "country_stats=pd.read_csv('/content/drive/My Drive/python/kiva/country_stats.csv')\n",
        "# Merge between dataset created at the previous point and dataset (country_stats)\n",
        "ratio_population=country_stats[['country_code','country_name','population']].merge(diff_country)\n",
        "# Create a new column about ratio between the difference computed at the previous point and the population\n",
        "ratio_population['ratio_diffFundedLoan_population']=ratio_population['diff_between_fundedamount_and_loanamount']/ratio_population['population']\n",
        "# Show the country  with the highest ratio\n",
        "ratio_population[ratio_population['ratio_diffFundedLoan_population']==ratio_population['ratio_diffFundedLoan_population'].max()]"
      ],
      "execution_count": 44,
      "outputs": [
        {
          "output_type": "execute_result",
          "data": {
            "text/html": [
              "<div>\n",
              "<style scoped>\n",
              "    .dataframe tbody tr th:only-of-type {\n",
              "        vertical-align: middle;\n",
              "    }\n",
              "\n",
              "    .dataframe tbody tr th {\n",
              "        vertical-align: top;\n",
              "    }\n",
              "\n",
              "    .dataframe thead th {\n",
              "        text-align: right;\n",
              "    }\n",
              "</style>\n",
              "<table border=\"1\" class=\"dataframe\">\n",
              "  <thead>\n",
              "    <tr style=\"text-align: right;\">\n",
              "      <th></th>\n",
              "      <th>country_code</th>\n",
              "      <th>country_name</th>\n",
              "      <th>population</th>\n",
              "      <th>diff_between_fundedamount_and_loanamount</th>\n",
              "      <th>ratio_diffFundedLoan_population</th>\n",
              "    </tr>\n",
              "  </thead>\n",
              "  <tbody>\n",
              "    <tr>\n",
              "      <th>156</th>\n",
              "      <td>NO</td>\n",
              "      <td>Norway</td>\n",
              "      <td>5305383</td>\n",
              "      <td>849455.417811</td>\n",
              "      <td>0.160112</td>\n",
              "    </tr>\n",
              "  </tbody>\n",
              "</table>\n",
              "</div>"
            ],
            "text/plain": [
              "    country_code  ... ratio_diffFundedLoan_population\n",
              "156           NO  ...                        0.160112\n",
              "\n",
              "[1 rows x 5 columns]"
            ]
          },
          "metadata": {
            "tags": []
          },
          "execution_count": 44
        }
      ]
    },
    {
      "cell_type": "markdown",
      "metadata": {
        "id": "mXS96kJA3JKq",
        "colab_type": "text"
      },
      "source": [
        "11) Which country has the highest ratio between the difference computed at point 9 and the population that is not below the poverty line"
      ]
    },
    {
      "cell_type": "code",
      "metadata": {
        "id": "dJNsb6F_mnsl",
        "colab_type": "code",
        "colab": {}
      },
      "source": [
        "# Drop rows with Nan values in 'population_below_poverty_line' columns and rename the column permanent name\n",
        "country_stats.dropna(subset=['population_below_poverty_line'],inplace=True)\n",
        "# For each country, create a new column about difference between the total amount of population and the amount of population under the poverty line\n",
        "country_stats['not_poor']=country_stats['population'] - (country_stats['population_below_poverty_line']*country_stats['population']/100)"
      ],
      "execution_count": 45,
      "outputs": []
    },
    {
      "cell_type": "code",
      "metadata": {
        "id": "KaWIttSBBYaK",
        "colab_type": "code",
        "colab": {
          "base_uri": "https://localhost:8080/",
          "height": 117
        },
        "outputId": "e74a563b-4d33-4c67-8c3b-66297d4912d7"
      },
      "source": [
        "# Merge between dataset (country_stats_dropped) and dataset created at the point 9\n",
        "ratio_population_rich=country_stats.merge(diff_country)\n",
        "# Create a new column about ration between the difference computed at point 9 and the population that is not below the poverty line\n",
        "ratio_population_rich['ratio']=ratio_population_rich['diff_between_fundedamount_and_loanamount'] /ratio_population_rich['not_poor']\n",
        "\n",
        "ratio_population_rich[ratio_population_rich['diff_between_fundedamount_and_loanamount']==ratio_population_rich['diff_between_fundedamount_and_loanamount'].max()]"
      ],
      "execution_count": 47,
      "outputs": [
        {
          "output_type": "execute_result",
          "data": {
            "text/html": [
              "<div>\n",
              "<style scoped>\n",
              "    .dataframe tbody tr th:only-of-type {\n",
              "        vertical-align: middle;\n",
              "    }\n",
              "\n",
              "    .dataframe tbody tr th {\n",
              "        vertical-align: top;\n",
              "    }\n",
              "\n",
              "    .dataframe thead th {\n",
              "        text-align: right;\n",
              "    }\n",
              "</style>\n",
              "<table border=\"1\" class=\"dataframe\">\n",
              "  <thead>\n",
              "    <tr style=\"text-align: right;\">\n",
              "      <th></th>\n",
              "      <th>country_name</th>\n",
              "      <th>country_code</th>\n",
              "      <th>country_code3</th>\n",
              "      <th>continent</th>\n",
              "      <th>region</th>\n",
              "      <th>population</th>\n",
              "      <th>population_below_poverty_line</th>\n",
              "      <th>hdi</th>\n",
              "      <th>life_expectancy</th>\n",
              "      <th>expected_years_of_schooling</th>\n",
              "      <th>mean_years_of_schooling</th>\n",
              "      <th>gni</th>\n",
              "      <th>kiva_country_name</th>\n",
              "      <th>not_poor</th>\n",
              "      <th>diff_between_fundedamount_and_loanamount</th>\n",
              "      <th>ratio</th>\n",
              "    </tr>\n",
              "  </thead>\n",
              "  <tbody>\n",
              "    <tr>\n",
              "      <th>6</th>\n",
              "      <td>United States</td>\n",
              "      <td>US</td>\n",
              "      <td>USA</td>\n",
              "      <td>Americas</td>\n",
              "      <td>Northern America</td>\n",
              "      <td>324459463</td>\n",
              "      <td>15.1</td>\n",
              "      <td>0.919553</td>\n",
              "      <td>79.222</td>\n",
              "      <td>16.53815</td>\n",
              "      <td>13.21789</td>\n",
              "      <td>53245.07696</td>\n",
              "      <td>United States</td>\n",
              "      <td>2.754661e+08</td>\n",
              "      <td>1.849178e+07</td>\n",
              "      <td>0.067129</td>\n",
              "    </tr>\n",
              "  </tbody>\n",
              "</table>\n",
              "</div>"
            ],
            "text/plain": [
              "    country_name  ...     ratio\n",
              "6  United States  ...  0.067129\n",
              "\n",
              "[1 rows x 16 columns]"
            ]
          },
          "metadata": {
            "tags": []
          },
          "execution_count": 47
        }
      ]
    },
    {
      "cell_type": "markdown",
      "metadata": {
        "id": "_m-AqHQi3Efs",
        "colab_type": "text"
      },
      "source": [
        "12) For each year, compute the total amount of loans. Each loan that has planned expiration time and disburse time in different years must have its amount distributed proportionally to the number of days in each year. For example, a loan with disburse time December 1st, 2016, planned expiration time January 30th 2018, and amount 5000USD has an amount of 5000USD * 31 / (31+365+30) = 363.85 for 2016, 5000USD * 365 / (31+365+30) = 4284.04 for 2017, and 5000USD * 30 / (31+365+30) = 352.11 for 2018."
      ]
    },
    {
      "cell_type": "code",
      "metadata": {
        "id": "HHJVzGyPCTgE",
        "colab_type": "code",
        "colab": {}
      },
      "source": [
        "# Create a new column about the year of planned expiration time\n",
        "loans['planned_expiration_time_year']=pd.to_datetime(loans['planned_expiration_time']).dt.year\n",
        "# Drop rows with missing values in 'planned_expiration_time_year' column and 'disburse_time_year' column\n",
        "loans.dropna(subset=['planned_expiration_time_year'],inplace=True)\n",
        "loans.dropna(subset=['disburse_time_year'],inplace=True)\n",
        "# Remove rows where the year of disburse time is > than the year of planned expiration time\n",
        "loans=loans[loans['disburse_time_year']<=loans['planned_expiration_time_year']]"
      ],
      "execution_count": 23,
      "outputs": []
    },
    {
      "cell_type": "code",
      "metadata": {
        "id": "SnSJixlH-9dS",
        "colab_type": "code",
        "colab": {}
      },
      "source": [
        "loans['days_in_disburse_time_year']=365\n",
        "loans['days_in_planned_expiration_time_year']=365\n",
        "loans.loc[loans['disburse_time_year'] == 2014, 'days_in_disburse_time_year'] = 366\n",
        "loans.loc[loans['planned_expiration_time'] == 2014, 'days_in_planned_expiration_time_year'] = 366"
      ],
      "execution_count": 24,
      "outputs": []
    },
    {
      "cell_type": "code",
      "metadata": {
        "id": "AyOwcE4uC4aP",
        "colab_type": "code",
        "colab": {}
      },
      "source": [
        "# Created a new column with the number of days to be attributed to the first year\n",
        "loans['days_disburse_time_year']= loans['days_in_disburse_time_year']- pd.to_datetime(loans['disburse_time']).dt.dayofyear\n",
        "# Created a new column about the number of days of the relative year of planned expiration time\n",
        "loans['days_planned_expiration_time_year']=pd.to_datetime(loans['planned_expiration_time']).dt.dayofyear\n",
        "# Created a new column computing the difference in year between planned expiration time and disburse time\n",
        "loans['difference_years']=loans['planned_expiration_time_year']-loans['disburse_time_year']"
      ],
      "execution_count": 25,
      "outputs": []
    },
    {
      "cell_type": "code",
      "metadata": {
        "id": "YnBpJjdJPFGI",
        "colab_type": "code",
        "colab": {}
      },
      "source": [
        "# Created new columns for each year of our interest\n",
        "bound = range(int(loans['disburse_time_year'].min()),int(loans['planned_expiration_time_year'].max())+1)\n",
        "for i in bound:\n",
        "    loans[str(i)] = 0"
      ],
      "execution_count": 26,
      "outputs": []
    },
    {
      "cell_type": "code",
      "metadata": {
        "id": "QqCno5iXPFDU",
        "colab_type": "code",
        "colab": {
          "base_uri": "https://localhost:8080/",
          "height": 224
        },
        "outputId": "1d78ab1e-aff6-48b3-e9c2-6c4271bf14e9"
      },
      "source": [
        "# Selected only columns we need\n",
        "atribute = ['loan_amount', '2011', '2012', '2013', '2014','2015', '2016', \n",
        "            '2017', '2018', 'difference_years', 'days_disburse_time_year',\n",
        "            'days_planned_expiration_time_year', 'disburse_time_year', 'planned_expiration_time_year', 'days_in_disburse_time_year','days_in_planned_expiration_time_year']\n",
        "loans = loans[atribute]\n",
        "loans.head()"
      ],
      "execution_count": 27,
      "outputs": [
        {
          "output_type": "execute_result",
          "data": {
            "text/html": [
              "<div>\n",
              "<style scoped>\n",
              "    .dataframe tbody tr th:only-of-type {\n",
              "        vertical-align: middle;\n",
              "    }\n",
              "\n",
              "    .dataframe tbody tr th {\n",
              "        vertical-align: top;\n",
              "    }\n",
              "\n",
              "    .dataframe thead th {\n",
              "        text-align: right;\n",
              "    }\n",
              "</style>\n",
              "<table border=\"1\" class=\"dataframe\">\n",
              "  <thead>\n",
              "    <tr style=\"text-align: right;\">\n",
              "      <th></th>\n",
              "      <th>loan_amount</th>\n",
              "      <th>2011</th>\n",
              "      <th>2012</th>\n",
              "      <th>2013</th>\n",
              "      <th>2014</th>\n",
              "      <th>2015</th>\n",
              "      <th>2016</th>\n",
              "      <th>2017</th>\n",
              "      <th>2018</th>\n",
              "      <th>difference_years</th>\n",
              "      <th>days_disburse_time_year</th>\n",
              "      <th>days_planned_expiration_time_year</th>\n",
              "      <th>disburse_time_year</th>\n",
              "      <th>planned_expiration_time_year</th>\n",
              "      <th>days_in_disburse_time_year</th>\n",
              "      <th>days_in_planned_expiration_time_year</th>\n",
              "    </tr>\n",
              "  </thead>\n",
              "  <tbody>\n",
              "    <tr>\n",
              "      <th>0</th>\n",
              "      <td>125.0</td>\n",
              "      <td>0</td>\n",
              "      <td>0</td>\n",
              "      <td>0</td>\n",
              "      <td>0</td>\n",
              "      <td>0</td>\n",
              "      <td>0</td>\n",
              "      <td>0</td>\n",
              "      <td>0</td>\n",
              "      <td>1.0</td>\n",
              "      <td>9</td>\n",
              "      <td>45</td>\n",
              "      <td>2013.0</td>\n",
              "      <td>2014.0</td>\n",
              "      <td>365</td>\n",
              "      <td>365</td>\n",
              "    </tr>\n",
              "    <tr>\n",
              "      <th>1</th>\n",
              "      <td>400.0</td>\n",
              "      <td>0</td>\n",
              "      <td>0</td>\n",
              "      <td>0</td>\n",
              "      <td>0</td>\n",
              "      <td>0</td>\n",
              "      <td>0</td>\n",
              "      <td>0</td>\n",
              "      <td>0</td>\n",
              "      <td>1.0</td>\n",
              "      <td>11</td>\n",
              "      <td>85</td>\n",
              "      <td>2013.0</td>\n",
              "      <td>2014.0</td>\n",
              "      <td>365</td>\n",
              "      <td>365</td>\n",
              "    </tr>\n",
              "    <tr>\n",
              "      <th>2</th>\n",
              "      <td>400.0</td>\n",
              "      <td>0</td>\n",
              "      <td>0</td>\n",
              "      <td>0</td>\n",
              "      <td>0</td>\n",
              "      <td>0</td>\n",
              "      <td>0</td>\n",
              "      <td>0</td>\n",
              "      <td>0</td>\n",
              "      <td>0.0</td>\n",
              "      <td>357</td>\n",
              "      <td>46</td>\n",
              "      <td>2014.0</td>\n",
              "      <td>2014.0</td>\n",
              "      <td>366</td>\n",
              "      <td>365</td>\n",
              "    </tr>\n",
              "    <tr>\n",
              "      <th>3</th>\n",
              "      <td>625.0</td>\n",
              "      <td>0</td>\n",
              "      <td>0</td>\n",
              "      <td>0</td>\n",
              "      <td>0</td>\n",
              "      <td>0</td>\n",
              "      <td>0</td>\n",
              "      <td>0</td>\n",
              "      <td>0</td>\n",
              "      <td>0.0</td>\n",
              "      <td>349</td>\n",
              "      <td>52</td>\n",
              "      <td>2014.0</td>\n",
              "      <td>2014.0</td>\n",
              "      <td>366</td>\n",
              "      <td>365</td>\n",
              "    </tr>\n",
              "    <tr>\n",
              "      <th>4</th>\n",
              "      <td>425.0</td>\n",
              "      <td>0</td>\n",
              "      <td>0</td>\n",
              "      <td>0</td>\n",
              "      <td>0</td>\n",
              "      <td>0</td>\n",
              "      <td>0</td>\n",
              "      <td>0</td>\n",
              "      <td>0</td>\n",
              "      <td>1.0</td>\n",
              "      <td>14</td>\n",
              "      <td>44</td>\n",
              "      <td>2013.0</td>\n",
              "      <td>2014.0</td>\n",
              "      <td>365</td>\n",
              "      <td>365</td>\n",
              "    </tr>\n",
              "  </tbody>\n",
              "</table>\n",
              "</div>"
            ],
            "text/plain": [
              "   loan_amount  ...  days_in_planned_expiration_time_year\n",
              "0        125.0  ...                                   365\n",
              "1        400.0  ...                                   365\n",
              "2        400.0  ...                                   365\n",
              "3        625.0  ...                                   365\n",
              "4        425.0  ...                                   365\n",
              "\n",
              "[5 rows x 16 columns]"
            ]
          },
          "metadata": {
            "tags": []
          },
          "execution_count": 27
        }
      ]
    },
    {
      "cell_type": "code",
      "metadata": {
        "id": "kpBRAeh6JX4u",
        "colab_type": "code",
        "colab": {
          "base_uri": "https://localhost:8080/",
          "height": 34
        },
        "outputId": "89c69507-97c2-40a0-9470-70705acb119b"
      },
      "source": [
        " loans['difference_years'].unique()"
      ],
      "execution_count": 28,
      "outputs": [
        {
          "output_type": "execute_result",
          "data": {
            "text/plain": [
              "array([1., 0., 5., 4.])"
            ]
          },
          "metadata": {
            "tags": []
          },
          "execution_count": 28
        }
      ]
    },
    {
      "cell_type": "code",
      "metadata": {
        "id": "UnPrqnz6_8CW",
        "colab_type": "code",
        "colab": {}
      },
      "source": [
        " # Create function \n",
        "def loan(x):\n",
        "    if x['difference_years'] == 0: # se disburse e planned hanno stipulazione e scadenza nello stesso anno.\n",
        "        x[str(int(x['disburse_time_year']))]= x['loan_amount'] # l'intero ammontare di loan_amount viene inserito \n",
        "                                                       # nella colonna in corrispondenza del medesimo anno.\n",
        "    elif x['difference_years']== 1:\n",
        "        x[str(int(x['disburse_time_year']))]= (x['days_disburse_time_year']*x['loan_amount'])/((x['days_disburse_time_year'])+ x['days_planned_expiration_time_year']+ ((x['difference_years']-1)*int(x['days_in_disburse_time_year'])))\n",
        "        x[str(int(x['planned_expiration_time_year']))]= x['loan_amount'] - x[str(int(x['disburse_time_year']))]\n",
        "        \n",
        "    elif x['difference_years'] > 1:\n",
        "        x[str(int(x['disburse_time_year']))]= x['days_disburse_time_year']*x['loan_amount'] / (x['days_disburse_time_year'] + x['days_planned_expiration_time_year'] + ((x['difference_years']-1)*int(x['days_in_disburse_time_year'])))\n",
        "        x[str(int(x['planned_expiration_time_year']))]=(x['days_planned_expiration_time_year']*x['loan_amount'])/((x['days_disburse_time_year'])+ x['days_planned_expiration_time_year']+ ((x['difference_years']-1)* int(x['days_in_planned_expiration_time_year'])))\n",
        "        \n",
        "        for y in range(1,int(x['difference_years'])):\n",
        "          if (int(x['disburse_time_year']+y) == 2014) :\n",
        "            x[str(int(x['disburse_time_year']+y))] = (366*x['loan_amount'])/((x['days_disburse_time_year'])+ x['days_planned_expiration_time_year']+ ((x['difference_years']-1)*366))\n",
        "          else :\n",
        "            x[str(int(x['disburse_time_year']+y))] = (365*x['loan_amount'])/((x['days_disburse_time_year'])+ x['days_planned_expiration_time_year']+ ((x['difference_years']-1)*365))\n",
        "\n",
        "    return x"
      ],
      "execution_count": 40,
      "outputs": []
    },
    {
      "cell_type": "code",
      "metadata": {
        "id": "niA2hh72Q571",
        "colab_type": "code",
        "colab": {
          "base_uri": "https://localhost:8080/",
          "height": 224
        },
        "outputId": "695b44f9-f0bf-478b-ac9a-605dbebf4561"
      },
      "source": [
        "# Apply function\n",
        "df1 = loans.apply(loan,axis=1)\n",
        "df1.head()"
      ],
      "execution_count": 42,
      "outputs": [
        {
          "output_type": "execute_result",
          "data": {
            "text/html": [
              "<div>\n",
              "<style scoped>\n",
              "    .dataframe tbody tr th:only-of-type {\n",
              "        vertical-align: middle;\n",
              "    }\n",
              "\n",
              "    .dataframe tbody tr th {\n",
              "        vertical-align: top;\n",
              "    }\n",
              "\n",
              "    .dataframe thead th {\n",
              "        text-align: right;\n",
              "    }\n",
              "</style>\n",
              "<table border=\"1\" class=\"dataframe\">\n",
              "  <thead>\n",
              "    <tr style=\"text-align: right;\">\n",
              "      <th></th>\n",
              "      <th>loan_amount</th>\n",
              "      <th>2011</th>\n",
              "      <th>2012</th>\n",
              "      <th>2013</th>\n",
              "      <th>2014</th>\n",
              "      <th>2015</th>\n",
              "      <th>2016</th>\n",
              "      <th>2017</th>\n",
              "      <th>2018</th>\n",
              "      <th>difference_years</th>\n",
              "      <th>days_disburse_time_year</th>\n",
              "      <th>days_planned_expiration_time_year</th>\n",
              "      <th>disburse_time_year</th>\n",
              "      <th>planned_expiration_time_year</th>\n",
              "      <th>days_in_disburse_time_year</th>\n",
              "      <th>days_in_planned_expiration_time_year</th>\n",
              "    </tr>\n",
              "  </thead>\n",
              "  <tbody>\n",
              "    <tr>\n",
              "      <th>0</th>\n",
              "      <td>125.0</td>\n",
              "      <td>0.0</td>\n",
              "      <td>0.0</td>\n",
              "      <td>20.833333</td>\n",
              "      <td>104.166667</td>\n",
              "      <td>0.0</td>\n",
              "      <td>0.0</td>\n",
              "      <td>0.0</td>\n",
              "      <td>0.0</td>\n",
              "      <td>1.0</td>\n",
              "      <td>9.0</td>\n",
              "      <td>45.0</td>\n",
              "      <td>2013.0</td>\n",
              "      <td>2014.0</td>\n",
              "      <td>365.0</td>\n",
              "      <td>365.0</td>\n",
              "    </tr>\n",
              "    <tr>\n",
              "      <th>1</th>\n",
              "      <td>400.0</td>\n",
              "      <td>0.0</td>\n",
              "      <td>0.0</td>\n",
              "      <td>45.833333</td>\n",
              "      <td>354.166667</td>\n",
              "      <td>0.0</td>\n",
              "      <td>0.0</td>\n",
              "      <td>0.0</td>\n",
              "      <td>0.0</td>\n",
              "      <td>1.0</td>\n",
              "      <td>11.0</td>\n",
              "      <td>85.0</td>\n",
              "      <td>2013.0</td>\n",
              "      <td>2014.0</td>\n",
              "      <td>365.0</td>\n",
              "      <td>365.0</td>\n",
              "    </tr>\n",
              "    <tr>\n",
              "      <th>2</th>\n",
              "      <td>400.0</td>\n",
              "      <td>0.0</td>\n",
              "      <td>0.0</td>\n",
              "      <td>0.000000</td>\n",
              "      <td>400.000000</td>\n",
              "      <td>0.0</td>\n",
              "      <td>0.0</td>\n",
              "      <td>0.0</td>\n",
              "      <td>0.0</td>\n",
              "      <td>0.0</td>\n",
              "      <td>357.0</td>\n",
              "      <td>46.0</td>\n",
              "      <td>2014.0</td>\n",
              "      <td>2014.0</td>\n",
              "      <td>366.0</td>\n",
              "      <td>365.0</td>\n",
              "    </tr>\n",
              "    <tr>\n",
              "      <th>3</th>\n",
              "      <td>625.0</td>\n",
              "      <td>0.0</td>\n",
              "      <td>0.0</td>\n",
              "      <td>0.000000</td>\n",
              "      <td>625.000000</td>\n",
              "      <td>0.0</td>\n",
              "      <td>0.0</td>\n",
              "      <td>0.0</td>\n",
              "      <td>0.0</td>\n",
              "      <td>0.0</td>\n",
              "      <td>349.0</td>\n",
              "      <td>52.0</td>\n",
              "      <td>2014.0</td>\n",
              "      <td>2014.0</td>\n",
              "      <td>366.0</td>\n",
              "      <td>365.0</td>\n",
              "    </tr>\n",
              "    <tr>\n",
              "      <th>4</th>\n",
              "      <td>425.0</td>\n",
              "      <td>0.0</td>\n",
              "      <td>0.0</td>\n",
              "      <td>102.586207</td>\n",
              "      <td>322.413793</td>\n",
              "      <td>0.0</td>\n",
              "      <td>0.0</td>\n",
              "      <td>0.0</td>\n",
              "      <td>0.0</td>\n",
              "      <td>1.0</td>\n",
              "      <td>14.0</td>\n",
              "      <td>44.0</td>\n",
              "      <td>2013.0</td>\n",
              "      <td>2014.0</td>\n",
              "      <td>365.0</td>\n",
              "      <td>365.0</td>\n",
              "    </tr>\n",
              "  </tbody>\n",
              "</table>\n",
              "</div>"
            ],
            "text/plain": [
              "   loan_amount  ...  days_in_planned_expiration_time_year\n",
              "0        125.0  ...                                 365.0\n",
              "1        400.0  ...                                 365.0\n",
              "2        400.0  ...                                 365.0\n",
              "3        625.0  ...                                 365.0\n",
              "4        425.0  ...                                 365.0\n",
              "\n",
              "[5 rows x 16 columns]"
            ]
          },
          "metadata": {
            "tags": []
          },
          "execution_count": 42
        }
      ]
    },
    {
      "cell_type": "code",
      "metadata": {
        "id": "O2vOu3MoPXoH",
        "colab_type": "code",
        "colab": {
          "base_uri": "https://localhost:8080/",
          "height": 297
        },
        "outputId": "9d35d831-68be-4d0a-fbfc-6ceabf073604"
      },
      "source": [
        "# Show result\n",
        "loan_amount_by_years = [(lambda x: str(x))(x) for x in list(bound)] \n",
        "df1[loan_amount_by_years].apply(lambda x: int(x.sum())).reset_index().rename(columns={'index':'year',0:'total'})"
      ],
      "execution_count": 43,
      "outputs": [
        {
          "output_type": "execute_result",
          "data": {
            "text/html": [
              "<div>\n",
              "<style scoped>\n",
              "    .dataframe tbody tr th:only-of-type {\n",
              "        vertical-align: middle;\n",
              "    }\n",
              "\n",
              "    .dataframe tbody tr th {\n",
              "        vertical-align: top;\n",
              "    }\n",
              "\n",
              "    .dataframe thead th {\n",
              "        text-align: right;\n",
              "    }\n",
              "</style>\n",
              "<table border=\"1\" class=\"dataframe\">\n",
              "  <thead>\n",
              "    <tr style=\"text-align: right;\">\n",
              "      <th></th>\n",
              "      <th>year</th>\n",
              "      <th>total</th>\n",
              "    </tr>\n",
              "  </thead>\n",
              "  <tbody>\n",
              "    <tr>\n",
              "      <th>0</th>\n",
              "      <td>2011</td>\n",
              "      <td>629911</td>\n",
              "    </tr>\n",
              "    <tr>\n",
              "      <th>1</th>\n",
              "      <td>2012</td>\n",
              "      <td>113122955</td>\n",
              "    </tr>\n",
              "    <tr>\n",
              "      <th>2</th>\n",
              "      <td>2013</td>\n",
              "      <td>125089016</td>\n",
              "    </tr>\n",
              "    <tr>\n",
              "      <th>3</th>\n",
              "      <td>2014</td>\n",
              "      <td>153380422</td>\n",
              "    </tr>\n",
              "    <tr>\n",
              "      <th>4</th>\n",
              "      <td>2015</td>\n",
              "      <td>159530703</td>\n",
              "    </tr>\n",
              "    <tr>\n",
              "      <th>5</th>\n",
              "      <td>2016</td>\n",
              "      <td>158748741</td>\n",
              "    </tr>\n",
              "    <tr>\n",
              "      <th>6</th>\n",
              "      <td>2017</td>\n",
              "      <td>172100797</td>\n",
              "    </tr>\n",
              "    <tr>\n",
              "      <th>7</th>\n",
              "      <td>2018</td>\n",
              "      <td>5705070</td>\n",
              "    </tr>\n",
              "  </tbody>\n",
              "</table>\n",
              "</div>"
            ],
            "text/plain": [
              "   year      total\n",
              "0  2011     629911\n",
              "1  2012  113122955\n",
              "2  2013  125089016\n",
              "3  2014  153380422\n",
              "4  2015  159530703\n",
              "5  2016  158748741\n",
              "6  2017  172100797\n",
              "7  2018    5705070"
            ]
          },
          "metadata": {
            "tags": []
          },
          "execution_count": 43
        }
      ]
    },
    {
      "cell_type": "code",
      "metadata": {
        "id": "jVcD5QxjPXkq",
        "colab_type": "code",
        "colab": {}
      },
      "source": [
        ""
      ],
      "execution_count": null,
      "outputs": []
    }
  ]
}